{
 "cells": [
  {
   "cell_type": "markdown",
   "metadata": {},
   "source": [
    "Author Name : Ade William Tabrani\n",
    "\n",
    "\n",
    "This notebook is made to learn the factors that affect employee satisfaction in a company."
   ]
  },
  {
   "cell_type": "markdown",
   "metadata": {},
   "source": [
    "# Preface"
   ]
  },
  {
   "cell_type": "markdown",
   "metadata": {},
   "source": [
    "Greetings. I’m a Human Resources (HR) Consultant working at Mercer, an HR consulting company. I got assigned to a client who is looking to improve their company’s employee satisfaction after they did their own research on companies like Costco and H.E.B where their care for the people and their employees benefited the company. The client company name is Celerium.\n",
    "\n",
    "I’ve done, with ample help from Celerium, a survey of companies’ employees on several aspects of employee satisfaction. It’s now time to clean and analyze the data I have gained.\n"
   ]
  },
  {
   "cell_type": "markdown",
   "metadata": {},
   "source": [
    "# Problem Statement\n",
    "\n",
    "Before figuring out what aspects I would like to focus on, it’s great to refer back to our agreement on what questions I have to answer, and what goals are there for me to base my solution on, for the completion of this project.\n",
    "\n",
    "\tThe questions:\n",
    "1.\tWhat are the top three factors that affect employee satisfaction in Celerium? How do those factors work/affect employee satisfaction?\n",
    "2.\tWho are the employees that are least satisfied in Celerium?\n",
    "3.\tHow does salary play a role in employee satisfaction in Celerium?\n",
    "\n",
    "\n",
    "The goal that my solution must help achieve: Increase employee satisfaction by 10%, 6 months after policy change. So, my solution will have to be a policy, or policy-like, with the goal in mind. This increase in satisfaction will benefit not only the employees, but companies who have happier employees have been shown to give out better performance (Ali et al., 2018). \n",
    "\n",
    "Before handing out the advices though, I need to: know which factors affect satisfaction level in Celerium.\n"
   ]
  },
  {
   "cell_type": "markdown",
   "metadata": {},
   "source": [
    "# Data Loading"
   ]
  },
  {
   "cell_type": "markdown",
   "metadata": {},
   "source": [
    "(Data was obtained from Kaggle titled \"Employee Satisfaction Survey Data\" by Zakari)"
   ]
  },
  {
   "cell_type": "code",
   "execution_count": 1,
   "metadata": {},
   "outputs": [],
   "source": [
    "# set up lib\n",
    "\n",
    "\n",
    "import pandas as pd\n",
    "from scipy import stats\n",
    "import scipy as sp\n",
    "import numpy as np\n",
    "import matplotlib\n",
    "import matplotlib.pyplot as plt\n",
    "import seaborn as sns"
   ]
  },
  {
   "cell_type": "markdown",
   "metadata": {},
   "source": [
    "I'm going to load the data to a Pandas dataframe."
   ]
  },
  {
   "cell_type": "code",
   "execution_count": 2,
   "metadata": {},
   "outputs": [
    {
     "data": {
      "text/html": [
       "<div>\n",
       "<style scoped>\n",
       "    .dataframe tbody tr th:only-of-type {\n",
       "        vertical-align: middle;\n",
       "    }\n",
       "\n",
       "    .dataframe tbody tr th {\n",
       "        vertical-align: top;\n",
       "    }\n",
       "\n",
       "    .dataframe thead th {\n",
       "        text-align: right;\n",
       "    }\n",
       "</style>\n",
       "<table border=\"1\" class=\"dataframe\">\n",
       "  <thead>\n",
       "    <tr style=\"text-align: right;\">\n",
       "      <th></th>\n",
       "      <th>Emp ID</th>\n",
       "      <th>satisfaction_level</th>\n",
       "      <th>last_evaluation</th>\n",
       "      <th>number_project</th>\n",
       "      <th>average_montly_hours</th>\n",
       "      <th>time_spend_company</th>\n",
       "      <th>Work_accident</th>\n",
       "      <th>promotion_last_5years</th>\n",
       "      <th>dept</th>\n",
       "      <th>salary</th>\n",
       "    </tr>\n",
       "  </thead>\n",
       "  <tbody>\n",
       "    <tr>\n",
       "      <th>0</th>\n",
       "      <td>1.0</td>\n",
       "      <td>0.38</td>\n",
       "      <td>0.53</td>\n",
       "      <td>2.0</td>\n",
       "      <td>157.0</td>\n",
       "      <td>3.0</td>\n",
       "      <td>0.0</td>\n",
       "      <td>0.0</td>\n",
       "      <td>sales</td>\n",
       "      <td>low</td>\n",
       "    </tr>\n",
       "    <tr>\n",
       "      <th>1</th>\n",
       "      <td>2.0</td>\n",
       "      <td>0.80</td>\n",
       "      <td>0.86</td>\n",
       "      <td>5.0</td>\n",
       "      <td>262.0</td>\n",
       "      <td>6.0</td>\n",
       "      <td>0.0</td>\n",
       "      <td>0.0</td>\n",
       "      <td>sales</td>\n",
       "      <td>medium</td>\n",
       "    </tr>\n",
       "    <tr>\n",
       "      <th>2</th>\n",
       "      <td>3.0</td>\n",
       "      <td>0.11</td>\n",
       "      <td>0.88</td>\n",
       "      <td>7.0</td>\n",
       "      <td>272.0</td>\n",
       "      <td>4.0</td>\n",
       "      <td>0.0</td>\n",
       "      <td>0.0</td>\n",
       "      <td>sales</td>\n",
       "      <td>medium</td>\n",
       "    </tr>\n",
       "    <tr>\n",
       "      <th>3</th>\n",
       "      <td>4.0</td>\n",
       "      <td>0.72</td>\n",
       "      <td>0.87</td>\n",
       "      <td>5.0</td>\n",
       "      <td>223.0</td>\n",
       "      <td>5.0</td>\n",
       "      <td>0.0</td>\n",
       "      <td>0.0</td>\n",
       "      <td>sales</td>\n",
       "      <td>low</td>\n",
       "    </tr>\n",
       "    <tr>\n",
       "      <th>4</th>\n",
       "      <td>5.0</td>\n",
       "      <td>0.37</td>\n",
       "      <td>0.52</td>\n",
       "      <td>2.0</td>\n",
       "      <td>159.0</td>\n",
       "      <td>3.0</td>\n",
       "      <td>0.0</td>\n",
       "      <td>0.0</td>\n",
       "      <td>sales</td>\n",
       "      <td>low</td>\n",
       "    </tr>\n",
       "  </tbody>\n",
       "</table>\n",
       "</div>"
      ],
      "text/plain": [
       "   Emp ID  satisfaction_level  last_evaluation  number_project  \\\n",
       "0     1.0                0.38             0.53             2.0   \n",
       "1     2.0                0.80             0.86             5.0   \n",
       "2     3.0                0.11             0.88             7.0   \n",
       "3     4.0                0.72             0.87             5.0   \n",
       "4     5.0                0.37             0.52             2.0   \n",
       "\n",
       "   average_montly_hours  time_spend_company  Work_accident  \\\n",
       "0                 157.0                 3.0            0.0   \n",
       "1                 262.0                 6.0            0.0   \n",
       "2                 272.0                 4.0            0.0   \n",
       "3                 223.0                 5.0            0.0   \n",
       "4                 159.0                 3.0            0.0   \n",
       "\n",
       "   promotion_last_5years   dept  salary  \n",
       "0                    0.0  sales     low  \n",
       "1                    0.0  sales  medium  \n",
       "2                    0.0  sales  medium  \n",
       "3                    0.0  sales     low  \n",
       "4                    0.0  sales     low  "
      ]
     },
     "execution_count": 2,
     "metadata": {},
     "output_type": "execute_result"
    }
   ],
   "source": [
    "df = pd.read_csv('https://raw.githubusercontent.com/AdeWT/Employee-Satisfaction-Project-AdeWT/main/Employee%20Satisfaction.csv', delimiter=',')\n",
    "\n",
    "df.head()"
   ]
  },
  {
   "cell_type": "markdown",
   "metadata": {},
   "source": [
    "# Data Cleaning"
   ]
  },
  {
   "cell_type": "markdown",
   "metadata": {},
   "source": [
    "Let's explore the data a bit."
   ]
  },
  {
   "cell_type": "code",
   "execution_count": 3,
   "metadata": {},
   "outputs": [
    {
     "name": "stdout",
     "output_type": "stream",
     "text": [
      "<class 'pandas.core.frame.DataFrame'>\n",
      "RangeIndex: 15787 entries, 0 to 15786\n",
      "Data columns (total 10 columns):\n",
      " #   Column                 Non-Null Count  Dtype  \n",
      "---  ------                 --------------  -----  \n",
      " 0   Emp ID                 14999 non-null  float64\n",
      " 1   satisfaction_level     14999 non-null  float64\n",
      " 2   last_evaluation        14999 non-null  float64\n",
      " 3   number_project         14999 non-null  float64\n",
      " 4   average_montly_hours   14999 non-null  float64\n",
      " 5   time_spend_company     14999 non-null  float64\n",
      " 6   Work_accident          14999 non-null  float64\n",
      " 7   promotion_last_5years  14999 non-null  float64\n",
      " 8   dept                   14999 non-null  object \n",
      " 9   salary                 14999 non-null  object \n",
      "dtypes: float64(8), object(2)\n",
      "memory usage: 1.2+ MB\n"
     ]
    }
   ],
   "source": [
    "# exploring a bit\n",
    "\n",
    "df.info()"
   ]
  },
  {
   "cell_type": "code",
   "execution_count": 4,
   "metadata": {},
   "outputs": [
    {
     "data": {
      "text/plain": [
       "15787"
      ]
     },
     "execution_count": 4,
     "metadata": {},
     "output_type": "execute_result"
    }
   ],
   "source": [
    "len(df['Emp ID'])"
   ]
  },
  {
   "cell_type": "markdown",
   "metadata": {},
   "source": [
    "There are 9 columns with 14,999 rows non-null. The length of one column returns 15,787 which means there are 788 rows of missing data.\n",
    "\n",
    "From .info function it can be seen that the data are formatted correctly. Though I would like it if the name are uniform: Work_accident is capitalized on the front while the others are not, and there's a typo in 'average_montly_hours'"
   ]
  },
  {
   "cell_type": "markdown",
   "metadata": {},
   "source": [
    "Let's check for duplicates."
   ]
  },
  {
   "cell_type": "code",
   "execution_count": 5,
   "metadata": {},
   "outputs": [
    {
     "data": {
      "text/plain": [
       "False    15000\n",
       "True       787\n",
       "Name: count, dtype: int64"
      ]
     },
     "execution_count": 5,
     "metadata": {},
     "output_type": "execute_result"
    }
   ],
   "source": [
    "df.duplicated().value_counts()"
   ]
  },
  {
   "cell_type": "markdown",
   "metadata": {},
   "source": [
    "From how the number of missing values and number of duplicates are the same, it seems that the duplicated values are the missing values -- they're all just empty so pandas flagged them as duplicates too."
   ]
  },
  {
   "cell_type": "markdown",
   "metadata": {},
   "source": [
    " Let's remove the duplicates and the empty data."
   ]
  },
  {
   "cell_type": "code",
   "execution_count": 6,
   "metadata": {},
   "outputs": [],
   "source": [
    "df.drop_duplicates(inplace=True)\n",
    "df.dropna(inplace=True)"
   ]
  },
  {
   "cell_type": "code",
   "execution_count": 7,
   "metadata": {},
   "outputs": [
    {
     "data": {
      "text/plain": [
       "14999"
      ]
     },
     "execution_count": 7,
     "metadata": {},
     "output_type": "execute_result"
    }
   ],
   "source": [
    "len(df['Emp ID'])"
   ]
  },
  {
   "cell_type": "code",
   "execution_count": 8,
   "metadata": {},
   "outputs": [
    {
     "name": "stdout",
     "output_type": "stream",
     "text": [
      "<class 'pandas.core.frame.DataFrame'>\n",
      "Index: 14999 entries, 0 to 15786\n",
      "Data columns (total 10 columns):\n",
      " #   Column                 Non-Null Count  Dtype  \n",
      "---  ------                 --------------  -----  \n",
      " 0   Emp ID                 14999 non-null  float64\n",
      " 1   satisfaction_level     14999 non-null  float64\n",
      " 2   last_evaluation        14999 non-null  float64\n",
      " 3   number_project         14999 non-null  float64\n",
      " 4   average_montly_hours   14999 non-null  float64\n",
      " 5   time_spend_company     14999 non-null  float64\n",
      " 6   Work_accident          14999 non-null  float64\n",
      " 7   promotion_last_5years  14999 non-null  float64\n",
      " 8   dept                   14999 non-null  object \n",
      " 9   salary                 14999 non-null  object \n",
      "dtypes: float64(8), object(2)\n",
      "memory usage: 1.3+ MB\n"
     ]
    }
   ],
   "source": [
    "df.info()"
   ]
  },
  {
   "cell_type": "markdown",
   "metadata": {},
   "source": [
    "The length of a column is now 14999, meaning 788 missing and duplicated rows have been removed.\n",
    "\n",
    "Let's rename the columns next to format I prefer."
   ]
  },
  {
   "cell_type": "code",
   "execution_count": 9,
   "metadata": {},
   "outputs": [],
   "source": [
    "df.rename(columns = \n",
    "          {'Emp ID':'emp_ID'},\n",
    "          inplace=True)\n",
    "\n",
    "df.rename(columns = \n",
    "         {'average_montly_hours':'average_monthly_hours'},\n",
    "          inplace=True)\n",
    "\n",
    "df.rename(columns = \n",
    "          {'Work_accident':'work_accident'},\n",
    "          inplace = True)"
   ]
  },
  {
   "cell_type": "code",
   "execution_count": 10,
   "metadata": {},
   "outputs": [
    {
     "name": "stdout",
     "output_type": "stream",
     "text": [
      "<class 'pandas.core.frame.DataFrame'>\n",
      "Index: 14999 entries, 0 to 15786\n",
      "Data columns (total 10 columns):\n",
      " #   Column                 Non-Null Count  Dtype  \n",
      "---  ------                 --------------  -----  \n",
      " 0   emp_ID                 14999 non-null  float64\n",
      " 1   satisfaction_level     14999 non-null  float64\n",
      " 2   last_evaluation        14999 non-null  float64\n",
      " 3   number_project         14999 non-null  float64\n",
      " 4   average_monthly_hours  14999 non-null  float64\n",
      " 5   time_spend_company     14999 non-null  float64\n",
      " 6   work_accident          14999 non-null  float64\n",
      " 7   promotion_last_5years  14999 non-null  float64\n",
      " 8   dept                   14999 non-null  object \n",
      " 9   salary                 14999 non-null  object \n",
      "dtypes: float64(8), object(2)\n",
      "memory usage: 1.3+ MB\n"
     ]
    }
   ],
   "source": [
    "# check if change\n",
    "\n",
    "df.info()"
   ]
  },
  {
   "cell_type": "markdown",
   "metadata": {},
   "source": [
    "The column name change has been done."
   ]
  },
  {
   "cell_type": "code",
   "execution_count": 11,
   "metadata": {},
   "outputs": [
    {
     "data": {
      "text/html": [
       "<div>\n",
       "<style scoped>\n",
       "    .dataframe tbody tr th:only-of-type {\n",
       "        vertical-align: middle;\n",
       "    }\n",
       "\n",
       "    .dataframe tbody tr th {\n",
       "        vertical-align: top;\n",
       "    }\n",
       "\n",
       "    .dataframe thead th {\n",
       "        text-align: right;\n",
       "    }\n",
       "</style>\n",
       "<table border=\"1\" class=\"dataframe\">\n",
       "  <thead>\n",
       "    <tr style=\"text-align: right;\">\n",
       "      <th></th>\n",
       "      <th>emp_ID</th>\n",
       "      <th>satisfaction_level</th>\n",
       "      <th>last_evaluation</th>\n",
       "      <th>number_project</th>\n",
       "      <th>average_monthly_hours</th>\n",
       "      <th>time_spend_company</th>\n",
       "      <th>work_accident</th>\n",
       "      <th>promotion_last_5years</th>\n",
       "      <th>dept</th>\n",
       "      <th>salary</th>\n",
       "    </tr>\n",
       "  </thead>\n",
       "  <tbody>\n",
       "    <tr>\n",
       "      <th>0</th>\n",
       "      <td>1.0</td>\n",
       "      <td>0.38</td>\n",
       "      <td>0.53</td>\n",
       "      <td>2.0</td>\n",
       "      <td>157.0</td>\n",
       "      <td>3.0</td>\n",
       "      <td>0.0</td>\n",
       "      <td>0.0</td>\n",
       "      <td>sales</td>\n",
       "      <td>low</td>\n",
       "    </tr>\n",
       "    <tr>\n",
       "      <th>1</th>\n",
       "      <td>2.0</td>\n",
       "      <td>0.80</td>\n",
       "      <td>0.86</td>\n",
       "      <td>5.0</td>\n",
       "      <td>262.0</td>\n",
       "      <td>6.0</td>\n",
       "      <td>0.0</td>\n",
       "      <td>0.0</td>\n",
       "      <td>sales</td>\n",
       "      <td>medium</td>\n",
       "    </tr>\n",
       "    <tr>\n",
       "      <th>2</th>\n",
       "      <td>3.0</td>\n",
       "      <td>0.11</td>\n",
       "      <td>0.88</td>\n",
       "      <td>7.0</td>\n",
       "      <td>272.0</td>\n",
       "      <td>4.0</td>\n",
       "      <td>0.0</td>\n",
       "      <td>0.0</td>\n",
       "      <td>sales</td>\n",
       "      <td>medium</td>\n",
       "    </tr>\n",
       "    <tr>\n",
       "      <th>3</th>\n",
       "      <td>4.0</td>\n",
       "      <td>0.72</td>\n",
       "      <td>0.87</td>\n",
       "      <td>5.0</td>\n",
       "      <td>223.0</td>\n",
       "      <td>5.0</td>\n",
       "      <td>0.0</td>\n",
       "      <td>0.0</td>\n",
       "      <td>sales</td>\n",
       "      <td>low</td>\n",
       "    </tr>\n",
       "    <tr>\n",
       "      <th>4</th>\n",
       "      <td>5.0</td>\n",
       "      <td>0.37</td>\n",
       "      <td>0.52</td>\n",
       "      <td>2.0</td>\n",
       "      <td>159.0</td>\n",
       "      <td>3.0</td>\n",
       "      <td>0.0</td>\n",
       "      <td>0.0</td>\n",
       "      <td>sales</td>\n",
       "      <td>low</td>\n",
       "    </tr>\n",
       "  </tbody>\n",
       "</table>\n",
       "</div>"
      ],
      "text/plain": [
       "   emp_ID  satisfaction_level  last_evaluation  number_project  \\\n",
       "0     1.0                0.38             0.53             2.0   \n",
       "1     2.0                0.80             0.86             5.0   \n",
       "2     3.0                0.11             0.88             7.0   \n",
       "3     4.0                0.72             0.87             5.0   \n",
       "4     5.0                0.37             0.52             2.0   \n",
       "\n",
       "   average_monthly_hours  time_spend_company  work_accident  \\\n",
       "0                  157.0                 3.0            0.0   \n",
       "1                  262.0                 6.0            0.0   \n",
       "2                  272.0                 4.0            0.0   \n",
       "3                  223.0                 5.0            0.0   \n",
       "4                  159.0                 3.0            0.0   \n",
       "\n",
       "   promotion_last_5years   dept  salary  \n",
       "0                    0.0  sales     low  \n",
       "1                    0.0  sales  medium  \n",
       "2                    0.0  sales  medium  \n",
       "3                    0.0  sales     low  \n",
       "4                    0.0  sales     low  "
      ]
     },
     "execution_count": 11,
     "metadata": {},
     "output_type": "execute_result"
    }
   ],
   "source": [
    "df.head()"
   ]
  },
  {
   "cell_type": "markdown",
   "metadata": {},
   "source": [
    "# Analysis"
   ]
  },
  {
   "cell_type": "markdown",
   "metadata": {},
   "source": [
    "## Descriptive Statistics"
   ]
  },
  {
   "cell_type": "markdown",
   "metadata": {},
   "source": [
    "Let's check the central tendency and dispersion of the numerical data."
   ]
  },
  {
   "cell_type": "code",
   "execution_count": 12,
   "metadata": {},
   "outputs": [
    {
     "name": "stdout",
     "output_type": "stream",
     "text": [
      "range of satisfaction_level is 0.91 \n",
      "mean of satisfaction_level is 0.61 \n",
      "median of satisfaction_level is 0.64 \n",
      "mode of satisfaction_level is 0.1 \n",
      "standard deviation of satisfaction_level is 0.25 \n",
      "variance of satisfaction_level is 0.06 \n",
      "skewness of satisfaction_level is -0.48 \n",
      "kurtosis of satisfaction_level is -0.67 \n",
      "\n",
      "range of last_evaluation is 0.64 \n",
      "mean of last_evaluation is 0.72 \n",
      "median of last_evaluation is 0.72 \n",
      "mode of last_evaluation is 0.55 \n",
      "standard deviation of last_evaluation is 0.17 \n",
      "variance of last_evaluation is 0.03 \n",
      "skewness of last_evaluation is -0.03 \n",
      "kurtosis of last_evaluation is -1.24 \n",
      "\n",
      "range of number_project is 5.00 \n",
      "mean of number_project is 3.80 \n",
      "median of number_project is 4.0 \n",
      "mode of number_project is 4.0 \n",
      "standard deviation of number_project is 1.23 \n",
      "variance of number_project is 1.52 \n",
      "skewness of number_project is 0.34 \n",
      "kurtosis of number_project is -0.50 \n",
      "\n"
     ]
    }
   ],
   "source": [
    "def descCol(columnName):\n",
    "    rangeCol = df[columnName].max() - df[columnName].min()\n",
    "    meanCol = df[columnName].mean()\n",
    "    medCol = df[columnName].median()\n",
    "    modeCol = df[columnName].mode()\n",
    "    stdCol = df[columnName].std()\n",
    "    varCol = df[columnName].var()\n",
    "    skewCol = df[columnName].skew()\n",
    "    curtCol = df[columnName].kurt()\n",
    "    print(\n",
    "       f'range of {columnName} is {\"{:.2f}\".format(rangeCol)}', '\\n'\n",
    "       f'mean of {columnName} is {\"{:.2f}\".format(meanCol)}', '\\n'\n",
    "       f'median of {columnName} is {medCol}', '\\n'\n",
    "       f'mode of {columnName} is {modeCol[0]}', '\\n'\n",
    "       f'standard deviation of {columnName} is {\"{:.2f}\".format(stdCol)}', '\\n'\n",
    "       f'variance of {columnName} is {\"{:.2f}\".format(varCol)}', '\\n'\n",
    "       f'skewness of {columnName} is {\"{:.2f}\".format(skewCol)}', '\\n'\n",
    "       f'kurtosis of {columnName} is {\"{:.2f}\".format(curtCol)}', '\\n'\n",
    "    )\n",
    "\n",
    "descCol('satisfaction_level')\n",
    "descCol('last_evaluation')\n",
    "descCol('number_project')"
   ]
  },
  {
   "cell_type": "code",
   "execution_count": 13,
   "metadata": {},
   "outputs": [
    {
     "name": "stdout",
     "output_type": "stream",
     "text": [
      "range of average_monthly_hours is 214.00 \n",
      "mean of average_monthly_hours is 201.05 \n",
      "median of average_monthly_hours is 200.0 \n",
      "mode of average_monthly_hours is 135.0 \n",
      "standard deviation of average_monthly_hours is 49.94 \n",
      "variance of average_monthly_hours is 2494.31 \n",
      "skewness of average_monthly_hours is 0.05 \n",
      "kurtosis of average_monthly_hours is -1.13 \n",
      "\n",
      "range of time_spend_company is 8.00 \n",
      "mean of time_spend_company is 3.50 \n",
      "median of time_spend_company is 3.0 \n",
      "mode of time_spend_company is 3.0 \n",
      "standard deviation of time_spend_company is 1.46 \n",
      "variance of time_spend_company is 2.13 \n",
      "skewness of time_spend_company is 1.85 \n",
      "kurtosis of time_spend_company is 4.77 \n",
      "\n"
     ]
    }
   ],
   "source": [
    "descCol('average_monthly_hours')\n",
    "descCol('time_spend_company') # it's here so the output is not truncated"
   ]
  },
  {
   "cell_type": "markdown",
   "metadata": {},
   "source": [
    "From the descriptive statistics we can see that, in each column of the data:\n",
    "\n",
    "- Satisfaction level: This data is the survey-ed satisfaction level, normalized to be a range of 0 to 1. Celerium company's employee's on average reported a 0.61 out of 1 satisfaction level, with the values mostly +- 0.17 from the average. Though it must be noted that a lot of employees gave out 0.1 or 1 out of 10 rating on satisfaction. So now we find out why we're here: a lot of the employees are not satisfied. \n",
    "\n",
    "    The data shows little negative skewness at -0.48, a negative skew, meaning there are more highly-rated satisfaction level than there are lowly-rated satisfaction level.\n",
    "\n",
    "    Kurtosis value of the data shows -1.24, hence a platykurtic distribution, which means satisfaction level may has few outliers and extreme values.\n",
    "\n",
    "- Last evaluation: This column is the scores of employees in their latest evaluation, which has been normalized to a range of 0 to 1. On average Celerium's employees are scored pretty high by their supervisors, standing at 0.72 out of 1, with most values swaying +- 0.17 from the average. Though, same with satisfaction level, the score most often appearing seems to be quite low at 0.55. We'll try to figure out what factors played in into that low a score as we further delve into the analysis. It's proven unsatisfied employees care less and hence do minimally (Safi and Arshi, 2016). It might be that.\n",
    "\n",
    "    This column shows little to no skewness, at -0.03 skewness level, meaning the data is very slightly skewed to the right (more higher scores than lower ones). The kurtosis though, shows -1.24, meaning a platykurtic distribution where there may be few outliers/extreme values.\n",
    "\n",
    "- Average monthly hours: rmembering that Celerium has their work days on Monday-Friday, the average of 201.05 is higher than what 8 hours a day times 22 days of work (30 days a month minus 4 Sat-Sun weekends) would be, 176 hours. This means there's around 25 hours of overtime in average, around 1,13 hour per day, which still seems acceptable, especially considering not all employees do that 1 hour overtime everyday, as the most-appearing answer is 135 hours of work per month on average. Average monthly hours mostly sway +- 49.94 from the average, meaning some employees are doing overtime quite a lot. It's important to look into this as usually overtime is detrimental to employee satisfaction (Ko and Jin, 2018): \n",
    "\n",
    "    That being said, the skewness of the data shows 0.05, meaning data mostly gather around the average with very slight positive skew/left skew: there are slightly more lower values than higher ones. The negative kurtosis level of -1.13 means platykurtic distribution with indication of few outliers.\n",
    "\n",
    "- Number of Project: this data shows the number of projects employee was currently working on at time of survey. This data can be used to gauge engagement, which is known as a positive predictor of employee satisfaction (Vorina et al. 2017), and also can gauge overwork which may cause dis-satisfaction (Fabian and Breunig, 2019). On average, the employees have 3-4 projects they handle, as that range comes out in the mean and mode of this column. Number of projects sways from the mean +- 1.23, so some employee has more ongoing projects while some has less.\n",
    "\n",
    "    This column has little skewness with value of 0.34, meaning there's more employees working less projects, though not by much. Kurtosis of the data is -0.5 which means a platykurtic distribution, indicates there may be few outliers.\n",
    "\n",
    "- Time spend company: Most employee has spent 3 years in Celerium, with 3.5 as the average time spent in the company. This at least signs the no satisfaction or dis-satisfaction are not that bad to the point of causing resignation, so that's a good thing. We should see if the satisfaction goes up or down with time--perhaps boredom? Though research are conflicting, one say it's a factor to job satisfaction (Lorber and Savič, 2012) while other say it's an insignificant factor (Wong and Heng, 2009). The data sways +- 1.46 from the mean though, so there are still some newer employees.\n",
    "\n",
    "    Skewness of this column shows 1.85, meaning data is highly skewed, meaning there are more newer employees than older ones. Data shows leptokurtic distributions with kurtosis being 4.77. This would be caused by people who have been in the company for a long time, as kurtosis is affected by extreme values."
   ]
  },
  {
   "cell_type": "markdown",
   "metadata": {},
   "source": [
    "Here we're going to see the histogram for each of the column of numerical data."
   ]
  },
  {
   "cell_type": "code",
   "execution_count": 14,
   "metadata": {},
   "outputs": [
    {
     "data": {
      "text/plain": [
       "Text(0.5, 1.0, 'Average Monthly Hours Histogram')"
      ]
     },
     "execution_count": 14,
     "metadata": {},
     "output_type": "execute_result"
    },
    {
     "data": {
      "image/png": "[encoded data removed]",
      "text/plain": [
       "<Figure size 2100x700 with 3 Axes>"
      ]
     },
     "metadata": {},
     "output_type": "display_data"
    }
   ],
   "source": [
    "\n",
    "fig, ax = plt.subplots(ncols=3, figsize=(21,7))\n",
    "df['satisfaction_level'].plot(kind='hist',bins=50,ax=ax[0])\n",
    "ax[0].set_title('Satisfaction Level Histogram')\n",
    "df['last_evaluation'].plot(kind='hist',bins=50,ax=ax[1])\n",
    "ax[1].set_title('Last Evaluation Score Histogram')\n",
    "df['average_monthly_hours'].plot(kind='hist',bins=50,ax=ax[2])\n",
    "ax[2].set_title('Average Monthly Hours Histogram')"
   ]
  },
  {
   "cell_type": "code",
   "execution_count": 15,
   "metadata": {},
   "outputs": [
    {
     "data": {
      "text/plain": [
       "Text(0.5, 1.0, 'Years spent in the company Histogram')"
      ]
     },
     "execution_count": 15,
     "metadata": {},
     "output_type": "execute_result"
    },
    {
     "data": {
      "image/png": "[encoded data removed]",
      "text/plain": [
       "<Figure size 1000x500 with 2 Axes>"
      ]
     },
     "metadata": {},
     "output_type": "display_data"
    }
   ],
   "source": [
    "\n",
    "fig, ax = plt.subplots(ncols=2, figsize=(10,5))\n",
    "df['number_project'].plot(kind='hist',bins=6,ax=ax[0])\n",
    "ax[0].set_title('Number of Projects Histogram')\n",
    "df['time_spend_company'].plot(kind='hist',bins=10,ax=ax[1])\n",
    "ax[1].set_title('Years spent in the company Histogram')"
   ]
  },
  {
   "cell_type": "markdown",
   "metadata": {},
   "source": [
    "Most of the data are not distributed normally. The closest to a normal distribution is Number of Projects, though it still show some skewness. \n",
    "\n",
    "We can see that satisfaction level and last evaluation scores are spread out all over the range, while average monthly hours are huddled up in the middle with low-frequency in the extreme low and extreme highs. It's concerning how there are still high frequencies above 176 hour mark (the 22 days 8 hours a day mark), which means overtime work seems quite common.\n",
    "\n",
    "Years spent in the company appears very skewed with 3 being the most frequent answer while there's not much at more than 5 years.\n",
    "\n",
    "I don't think we're going to drop people who worked longer out of the data, though. We want to see the full picture."
   ]
  },
  {
   "cell_type": "markdown",
   "metadata": {},
   "source": [
    "Let's check the boxplot, just curious, even though I don't think I'll be removing any outlier. Maybe I will after seeing the boxplots."
   ]
  },
  {
   "cell_type": "code",
   "execution_count": 16,
   "metadata": {},
   "outputs": [
    {
     "data": {
      "text/plain": [
       "Text(0.5, 1.0, 'AVG monthly hours Boxplot')"
      ]
     },
     "execution_count": 16,
     "metadata": {},
     "output_type": "execute_result"
    },
    {
     "data": {
      "image/png": "[encoded data removed]",
      "text/plain": [
       "<Figure size 1500x500 with 3 Axes>"
      ]
     },
     "metadata": {},
     "output_type": "display_data"
    }
   ],
   "source": [
    "\n",
    "fig, ax = plt.subplots(ncols=3, figsize=(15,5))\n",
    "ax[0].boxplot(df['satisfaction_level'])\n",
    "ax[0].set_title('Satisfaction Level Boxplot')\n",
    "ax[1].boxplot(df['last_evaluation'])\n",
    "ax[1].set_title('Last evaluation Boxplot')\n",
    "ax[2].boxplot(df['average_monthly_hours'])\n",
    "ax[2].set_title('AVG monthly hours Boxplot')"
   ]
  },
  {
   "cell_type": "code",
   "execution_count": 17,
   "metadata": {},
   "outputs": [
    {
     "data": {
      "text/plain": [
       "Text(0.5, 1.0, 'Time spent in the company Boxplot')"
      ]
     },
     "execution_count": 17,
     "metadata": {},
     "output_type": "execute_result"
    },
    {
     "data": {
      "image/png": "[encoded data removed]",
      "text/plain": [
       "<Figure size 1000x500 with 2 Axes>"
      ]
     },
     "metadata": {},
     "output_type": "display_data"
    }
   ],
   "source": [
    "fig, ax = plt.subplots(ncols=2, figsize=(10,5))\n",
    "ax[0].boxplot(df['number_project'])\n",
    "ax[0].set_title('Number of projects Boxplot')\n",
    "ax[1].boxplot(df['time_spend_company'])\n",
    "ax[1].set_title('Time spent in the company Boxplot')"
   ]
  },
  {
   "cell_type": "markdown",
   "metadata": {},
   "source": [
    "We can conclude that there are no outliers on most numerical data except for time spent in the company. We want to figure out if a long stay in a company signs employee satisfaction, so we're not removing the outliers."
   ]
  },
  {
   "cell_type": "markdown",
   "metadata": {},
   "source": [
    "Let's see the spread of categorical data next. We'll be using bar charts."
   ]
  },
  {
   "cell_type": "code",
   "execution_count": 18,
   "metadata": {},
   "outputs": [
    {
     "data": {
      "text/plain": [
       "dept\n",
       "sales          4140\n",
       "technical      2720\n",
       "support        2229\n",
       "IT             1227\n",
       "product_mng     902\n",
       "marketing       858\n",
       "RandD           787\n",
       "accounting      767\n",
       "hr              739\n",
       "management      630\n",
       "Name: count, dtype: int64"
      ]
     },
     "execution_count": 18,
     "metadata": {},
     "output_type": "execute_result"
    }
   ],
   "source": [
    "# to see the exact count of categorical data\n",
    "df['dept'].value_counts()"
   ]
  },
  {
   "cell_type": "code",
   "execution_count": 19,
   "metadata": {},
   "outputs": [
    {
     "data": {
      "image/png": "[encoded data removed]",
      "text/plain": [
       "<Figure size 640x480 with 1 Axes>"
      ]
     },
     "metadata": {},
     "output_type": "display_data"
    }
   ],
   "source": [
    "\n",
    "plt.plot()\n",
    "df['dept'].value_counts().sort_values().plot(kind = 'barh')\n",
    "plt.title(\"Departments in Celerium\")\n",
    "plt.show()\n",
    "\n"
   ]
  },
  {
   "cell_type": "markdown",
   "metadata": {},
   "source": [
    "We can see here that the biggest department in Celerium is sales, followed by technical and support in the top 3. IT and Product Management follows completing the top 5."
   ]
  },
  {
   "cell_type": "code",
   "execution_count": 20,
   "metadata": {},
   "outputs": [
    {
     "data": {
      "text/plain": [
       "salary\n",
       "low       7316\n",
       "medium    6446\n",
       "high      1237\n",
       "Name: count, dtype: int64"
      ]
     },
     "execution_count": 20,
     "metadata": {},
     "output_type": "execute_result"
    }
   ],
   "source": [
    "# to see the exact count of categorical data\n",
    "df['salary'].value_counts()"
   ]
  },
  {
   "cell_type": "code",
   "execution_count": 21,
   "metadata": {},
   "outputs": [
    {
     "data": {
      "text/plain": [
       "Text(0.5, 1.0, 'Salaries in Celerium')"
      ]
     },
     "execution_count": 21,
     "metadata": {},
     "output_type": "execute_result"
    },
    {
     "data": {
      "image/png": "[encoded data removed]",
      "text/plain": [
       "<Figure size 640x480 with 1 Axes>"
      ]
     },
     "metadata": {},
     "output_type": "display_data"
    }
   ],
   "source": [
    "df['salary'].value_counts().sort_values().plot(kind = 'barh')\n",
    "plt.title('Salaries in Celerium')"
   ]
  },
  {
   "cell_type": "code",
   "execution_count": 22,
   "metadata": {},
   "outputs": [
    {
     "data": {
      "text/plain": [
       "Text(0.5, 1.0, 'Distribution of Salary Ranges in Celerium')"
      ]
     },
     "execution_count": 22,
     "metadata": {},
     "output_type": "execute_result"
    },
    {
     "data": {
      "image/png": "[encoded data removed]",
      "text/plain": [
       "<Figure size 640x480 with 1 Axes>"
      ]
     },
     "metadata": {},
     "output_type": "display_data"
    }
   ],
   "source": [
    "df['salary'].value_counts().sort_values().plot(kind = 'pie', autopct=\"%.1f%%\")\n",
    "plt.title('Distribution of Salary Ranges in Celerium')"
   ]
  },
  {
   "cell_type": "markdown",
   "metadata": {},
   "source": [
    "Most employees fall into the low salary category, comprising of almost half of all employees. Medium not far behind from low with 43%, and high-salaried employees are relatively few. The low salary can be an attributor to low level of satisfaction (Bhardwaj et al., 2021)"
   ]
  },
  {
   "cell_type": "code",
   "execution_count": 23,
   "metadata": {},
   "outputs": [
    {
     "data": {
      "text/plain": [
       "work_accident\n",
       "0.0    12830\n",
       "1.0     2169\n",
       "Name: count, dtype: int64"
      ]
     },
     "execution_count": 23,
     "metadata": {},
     "output_type": "execute_result"
    }
   ],
   "source": [
    "# to see the exact count of categorical data\n",
    "df['work_accident'].value_counts()"
   ]
  },
  {
   "cell_type": "code",
   "execution_count": 24,
   "metadata": {},
   "outputs": [
    {
     "data": {
      "text/plain": [
       "Text(0.5, 1.0, 'Work Accidents in Celerium, 0: never, 1:experienced work accident')"
      ]
     },
     "execution_count": 24,
     "metadata": {},
     "output_type": "execute_result"
    },
    {
     "data": {
      "image/png": "[encoded data removed]",
      "text/plain": [
       "<Figure size 640x480 with 1 Axes>"
      ]
     },
     "metadata": {},
     "output_type": "display_data"
    }
   ],
   "source": [
    "df['work_accident'].value_counts().sort_values().plot(kind = 'barh')\n",
    "plt.title('Work Accidents in Celerium, 0: never, 1:experienced work accident')"
   ]
  },
  {
   "cell_type": "markdown",
   "metadata": {},
   "source": [
    "Most employee has never been in a work accident. This can tell us that Celerium cars for the safety of their employees to the point of preventing work accidents. Shown care for employees' safety and safe working environment has been shown to have a positive correlation to employee satisfaction on previous studies such as (Bhardwaj,  2021)"
   ]
  },
  {
   "cell_type": "code",
   "execution_count": 25,
   "metadata": {},
   "outputs": [
    {
     "data": {
      "text/plain": [
       "promotion_last_5years\n",
       "0.0    14680\n",
       "1.0      319\n",
       "Name: count, dtype: int64"
      ]
     },
     "execution_count": 25,
     "metadata": {},
     "output_type": "execute_result"
    }
   ],
   "source": [
    "# to see the exact count of categorical data\n",
    "df['promotion_last_5years'].value_counts()"
   ]
  },
  {
   "cell_type": "code",
   "execution_count": 26,
   "metadata": {},
   "outputs": [
    {
     "data": {
      "text/plain": [
       "Text(0.5, 1.0, 'Promotion in Celerium in the last 5 years: 0: no, 1: experienced promotion')"
      ]
     },
     "execution_count": 26,
     "metadata": {},
     "output_type": "execute_result"
    },
    {
     "data": {
      "image/png": "[encoded data removed]",
      "text/plain": [
       "<Figure size 640x480 with 1 Axes>"
      ]
     },
     "metadata": {},
     "output_type": "display_data"
    }
   ],
   "source": [
    "df['promotion_last_5years'].value_counts().sort_values().plot(kind = 'barh')\n",
    "plt.title('Promotion in Celerium in the last 5 years: 0: no, 1: experienced promotion')"
   ]
  },
  {
   "cell_type": "markdown",
   "metadata": {},
   "source": [
    "Most of the employees in Celerium has never been promoted in the last 5 years. This might hint into cause of low satisfaction: no appreciation in form of promotion. Promotion has been known to be a positive factor to employee satisfaction. (Bhardwaj et al., 2021)"
   ]
  },
  {
   "cell_type": "markdown",
   "metadata": {},
   "source": [
    "### Correlation Test"
   ]
  },
  {
   "cell_type": "code",
   "execution_count": 27,
   "metadata": {},
   "outputs": [
    {
     "data": {
      "text/html": [
       "<div>\n",
       "<style scoped>\n",
       "    .dataframe tbody tr th:only-of-type {\n",
       "        vertical-align: middle;\n",
       "    }\n",
       "\n",
       "    .dataframe tbody tr th {\n",
       "        vertical-align: top;\n",
       "    }\n",
       "\n",
       "    .dataframe thead th {\n",
       "        text-align: right;\n",
       "    }\n",
       "</style>\n",
       "<table border=\"1\" class=\"dataframe\">\n",
       "  <thead>\n",
       "    <tr style=\"text-align: right;\">\n",
       "      <th></th>\n",
       "      <th>Employee Satisfaction</th>\n",
       "      <th>Last Evaluation</th>\n",
       "      <th>Number of Projects</th>\n",
       "      <th>AVG monthly working hours</th>\n",
       "      <th>Time spent in the company</th>\n",
       "    </tr>\n",
       "  </thead>\n",
       "  <tbody>\n",
       "    <tr>\n",
       "      <th>0</th>\n",
       "      <td>0.38</td>\n",
       "      <td>0.53</td>\n",
       "      <td>2.0</td>\n",
       "      <td>157.0</td>\n",
       "      <td>3.0</td>\n",
       "    </tr>\n",
       "    <tr>\n",
       "      <th>1</th>\n",
       "      <td>0.80</td>\n",
       "      <td>0.86</td>\n",
       "      <td>5.0</td>\n",
       "      <td>262.0</td>\n",
       "      <td>6.0</td>\n",
       "    </tr>\n",
       "    <tr>\n",
       "      <th>2</th>\n",
       "      <td>0.11</td>\n",
       "      <td>0.88</td>\n",
       "      <td>7.0</td>\n",
       "      <td>272.0</td>\n",
       "      <td>4.0</td>\n",
       "    </tr>\n",
       "    <tr>\n",
       "      <th>3</th>\n",
       "      <td>0.72</td>\n",
       "      <td>0.87</td>\n",
       "      <td>5.0</td>\n",
       "      <td>223.0</td>\n",
       "      <td>5.0</td>\n",
       "    </tr>\n",
       "    <tr>\n",
       "      <th>4</th>\n",
       "      <td>0.37</td>\n",
       "      <td>0.52</td>\n",
       "      <td>2.0</td>\n",
       "      <td>159.0</td>\n",
       "      <td>3.0</td>\n",
       "    </tr>\n",
       "  </tbody>\n",
       "</table>\n",
       "</div>"
      ],
      "text/plain": [
       "   Employee Satisfaction  Last Evaluation  Number of Projects  \\\n",
       "0                   0.38             0.53                 2.0   \n",
       "1                   0.80             0.86                 5.0   \n",
       "2                   0.11             0.88                 7.0   \n",
       "3                   0.72             0.87                 5.0   \n",
       "4                   0.37             0.52                 2.0   \n",
       "\n",
       "   AVG monthly working hours  Time spent in the company  \n",
       "0                      157.0                        3.0  \n",
       "1                      262.0                        6.0  \n",
       "2                      272.0                        4.0  \n",
       "3                      223.0                        5.0  \n",
       "4                      159.0                        3.0  "
      ]
     },
     "execution_count": 27,
     "metadata": {},
     "output_type": "execute_result"
    }
   ],
   "source": [
    "# getting only numerical data \n",
    "dfNum = pd.DataFrame()\n",
    "\n",
    "dfNum['Employee Satisfaction'] = df['satisfaction_level']\n",
    "dfNum['Last Evaluation'] = df['last_evaluation']\n",
    "dfNum['Number of Projects'] = df['number_project']\n",
    "dfNum['AVG monthly working hours'] = df['average_monthly_hours']\n",
    "dfNum['Time spent in the company'] = df['time_spend_company']\n",
    "\n",
    "dfNum.head()"
   ]
  },
  {
   "cell_type": "code",
   "execution_count": 28,
   "metadata": {},
   "outputs": [
    {
     "data": {
      "text/html": [
       "<div>\n",
       "<style scoped>\n",
       "    .dataframe tbody tr th:only-of-type {\n",
       "        vertical-align: middle;\n",
       "    }\n",
       "\n",
       "    .dataframe tbody tr th {\n",
       "        vertical-align: top;\n",
       "    }\n",
       "\n",
       "    .dataframe thead th {\n",
       "        text-align: right;\n",
       "    }\n",
       "</style>\n",
       "<table border=\"1\" class=\"dataframe\">\n",
       "  <thead>\n",
       "    <tr style=\"text-align: right;\">\n",
       "      <th></th>\n",
       "      <th>Employee Satisfaction</th>\n",
       "      <th>Last Evaluation</th>\n",
       "      <th>Number of Projects</th>\n",
       "      <th>AVG monthly working hours</th>\n",
       "      <th>Time spent in the company</th>\n",
       "    </tr>\n",
       "  </thead>\n",
       "  <tbody>\n",
       "    <tr>\n",
       "      <th>Employee Satisfaction</th>\n",
       "      <td>1.000000</td>\n",
       "      <td>0.105021</td>\n",
       "      <td>-0.142970</td>\n",
       "      <td>-0.020048</td>\n",
       "      <td>-0.100866</td>\n",
       "    </tr>\n",
       "    <tr>\n",
       "      <th>Last Evaluation</th>\n",
       "      <td>0.105021</td>\n",
       "      <td>1.000000</td>\n",
       "      <td>0.349333</td>\n",
       "      <td>0.339742</td>\n",
       "      <td>0.131591</td>\n",
       "    </tr>\n",
       "    <tr>\n",
       "      <th>Number of Projects</th>\n",
       "      <td>-0.142970</td>\n",
       "      <td>0.349333</td>\n",
       "      <td>1.000000</td>\n",
       "      <td>0.417211</td>\n",
       "      <td>0.196786</td>\n",
       "    </tr>\n",
       "    <tr>\n",
       "      <th>AVG monthly working hours</th>\n",
       "      <td>-0.020048</td>\n",
       "      <td>0.339742</td>\n",
       "      <td>0.417211</td>\n",
       "      <td>1.000000</td>\n",
       "      <td>0.127755</td>\n",
       "    </tr>\n",
       "    <tr>\n",
       "      <th>Time spent in the company</th>\n",
       "      <td>-0.100866</td>\n",
       "      <td>0.131591</td>\n",
       "      <td>0.196786</td>\n",
       "      <td>0.127755</td>\n",
       "      <td>1.000000</td>\n",
       "    </tr>\n",
       "  </tbody>\n",
       "</table>\n",
       "</div>"
      ],
      "text/plain": [
       "                           Employee Satisfaction  Last Evaluation  \\\n",
       "Employee Satisfaction                   1.000000         0.105021   \n",
       "Last Evaluation                         0.105021         1.000000   \n",
       "Number of Projects                     -0.142970         0.349333   \n",
       "AVG monthly working hours              -0.020048         0.339742   \n",
       "Time spent in the company              -0.100866         0.131591   \n",
       "\n",
       "                           Number of Projects  AVG monthly working hours  \\\n",
       "Employee Satisfaction               -0.142970                  -0.020048   \n",
       "Last Evaluation                      0.349333                   0.339742   \n",
       "Number of Projects                   1.000000                   0.417211   \n",
       "AVG monthly working hours            0.417211                   1.000000   \n",
       "Time spent in the company            0.196786                   0.127755   \n",
       "\n",
       "                           Time spent in the company  \n",
       "Employee Satisfaction                      -0.100866  \n",
       "Last Evaluation                             0.131591  \n",
       "Number of Projects                          0.196786  \n",
       "AVG monthly working hours                   0.127755  \n",
       "Time spent in the company                   1.000000  "
      ]
     },
     "execution_count": 28,
     "metadata": {},
     "output_type": "execute_result"
    }
   ],
   "source": [
    "dfNum.corr()"
   ]
  },
  {
   "cell_type": "markdown",
   "metadata": {},
   "source": [
    "There doesn't seem to be any strong correlation between the numerical data; no multicollinearity."
   ]
  },
  {
   "cell_type": "markdown",
   "metadata": {},
   "source": [
    "### Conclusion of data exploration through descriptive statistics:"
   ]
  },
  {
   "cell_type": "markdown",
   "metadata": {},
   "source": [
    "There are some hints I got from looking at the data that may hint why so many answered a 1 out of 10 satisfaction score:\n",
    "- Low salary for around half of the company\n",
    "- Low promotion chance, employees may feel there's nothing to strive for\n",
    "- Long work hours\n",
    "\n",
    "There are also some good things that Celerium has done for their employees:\n",
    "- Good retention, most are working in Celerium for three years or more. \n",
    "    \n",
    "    Going off the tracks here: it begs a question, what happened three years ago that there's a spike in hiring? We may never know for we don't have the data for that.\n",
    "- Low count of work accidents throughout employee's entire employment in Celerium.\n",
    "- There are more highly-scored employees than lower-scored ones on evaluation. This means Celerium are able to train and direct employees to what they're supposed to do. Though, the mode being 55 out of 100 means there's still room for improvement.\n",
    "\n",
    "I don't know how complex each projects are to judge whether Celerium's employees are involved in too many projects or not. Context is important."
   ]
  },
  {
   "cell_type": "markdown",
   "metadata": {},
   "source": [
    "## Inferential Statistics"
   ]
  },
  {
   "cell_type": "markdown",
   "metadata": {},
   "source": [
    "I'm going to be doing chi-square tests to see dependency among variables. Chi-square tests are not good for checking dependencies between numerical data and categorical data, so the numerical data would need to be binned into several bins/categories first."
   ]
  },
  {
   "cell_type": "markdown",
   "metadata": {},
   "source": [
    "### Binning"
   ]
  },
  {
   "cell_type": "markdown",
   "metadata": {},
   "source": [
    "#### Satisfaction Level"
   ]
  },
  {
   "cell_type": "code",
   "execution_count": 29,
   "metadata": {},
   "outputs": [
    {
     "data": {
      "text/html": [
       "<div>\n",
       "<style scoped>\n",
       "    .dataframe tbody tr th:only-of-type {\n",
       "        vertical-align: middle;\n",
       "    }\n",
       "\n",
       "    .dataframe tbody tr th {\n",
       "        vertical-align: top;\n",
       "    }\n",
       "\n",
       "    .dataframe thead th {\n",
       "        text-align: right;\n",
       "    }\n",
       "</style>\n",
       "<table border=\"1\" class=\"dataframe\">\n",
       "  <thead>\n",
       "    <tr style=\"text-align: right;\">\n",
       "      <th></th>\n",
       "      <th>satisfaction_level</th>\n",
       "      <th>satisfaction_level_binned</th>\n",
       "    </tr>\n",
       "  </thead>\n",
       "  <tbody>\n",
       "    <tr>\n",
       "      <th>120</th>\n",
       "      <td>0.14</td>\n",
       "      <td>Very Low</td>\n",
       "    </tr>\n",
       "    <tr>\n",
       "      <th>121</th>\n",
       "      <td>0.40</td>\n",
       "      <td>Low</td>\n",
       "    </tr>\n",
       "    <tr>\n",
       "      <th>122</th>\n",
       "      <td>0.75</td>\n",
       "      <td>High</td>\n",
       "    </tr>\n",
       "    <tr>\n",
       "      <th>123</th>\n",
       "      <td>0.11</td>\n",
       "      <td>Very Low</td>\n",
       "    </tr>\n",
       "    <tr>\n",
       "      <th>124</th>\n",
       "      <td>0.46</td>\n",
       "      <td>Neutral</td>\n",
       "    </tr>\n",
       "    <tr>\n",
       "      <th>125</th>\n",
       "      <td>0.11</td>\n",
       "      <td>Very Low</td>\n",
       "    </tr>\n",
       "    <tr>\n",
       "      <th>126</th>\n",
       "      <td>0.38</td>\n",
       "      <td>Low</td>\n",
       "    </tr>\n",
       "    <tr>\n",
       "      <th>127</th>\n",
       "      <td>0.70</td>\n",
       "      <td>High</td>\n",
       "    </tr>\n",
       "    <tr>\n",
       "      <th>128</th>\n",
       "      <td>0.09</td>\n",
       "      <td>Very Low</td>\n",
       "    </tr>\n",
       "    <tr>\n",
       "      <th>129</th>\n",
       "      <td>0.37</td>\n",
       "      <td>Low</td>\n",
       "    </tr>\n",
       "    <tr>\n",
       "      <th>130</th>\n",
       "      <td>0.10</td>\n",
       "      <td>Very Low</td>\n",
       "    </tr>\n",
       "    <tr>\n",
       "      <th>131</th>\n",
       "      <td>0.38</td>\n",
       "      <td>Low</td>\n",
       "    </tr>\n",
       "    <tr>\n",
       "      <th>132</th>\n",
       "      <td>0.90</td>\n",
       "      <td>Very High</td>\n",
       "    </tr>\n",
       "    <tr>\n",
       "      <th>133</th>\n",
       "      <td>0.44</td>\n",
       "      <td>Neutral</td>\n",
       "    </tr>\n",
       "    <tr>\n",
       "      <th>134</th>\n",
       "      <td>0.36</td>\n",
       "      <td>Low</td>\n",
       "    </tr>\n",
       "    <tr>\n",
       "      <th>135</th>\n",
       "      <td>0.31</td>\n",
       "      <td>Low</td>\n",
       "    </tr>\n",
       "    <tr>\n",
       "      <th>136</th>\n",
       "      <td>0.10</td>\n",
       "      <td>Very Low</td>\n",
       "    </tr>\n",
       "    <tr>\n",
       "      <th>137</th>\n",
       "      <td>0.42</td>\n",
       "      <td>Neutral</td>\n",
       "    </tr>\n",
       "    <tr>\n",
       "      <th>138</th>\n",
       "      <td>0.74</td>\n",
       "      <td>High</td>\n",
       "    </tr>\n",
       "    <tr>\n",
       "      <th>139</th>\n",
       "      <td>0.73</td>\n",
       "      <td>High</td>\n",
       "    </tr>\n",
       "    <tr>\n",
       "      <th>140</th>\n",
       "      <td>0.09</td>\n",
       "      <td>Very Low</td>\n",
       "    </tr>\n",
       "  </tbody>\n",
       "</table>\n",
       "</div>"
      ],
      "text/plain": [
       "     satisfaction_level satisfaction_level_binned\n",
       "120                0.14                  Very Low\n",
       "121                0.40                       Low\n",
       "122                0.75                      High\n",
       "123                0.11                  Very Low\n",
       "124                0.46                   Neutral\n",
       "125                0.11                  Very Low\n",
       "126                0.38                       Low\n",
       "127                0.70                      High\n",
       "128                0.09                  Very Low\n",
       "129                0.37                       Low\n",
       "130                0.10                  Very Low\n",
       "131                0.38                       Low\n",
       "132                0.90                 Very High\n",
       "133                0.44                   Neutral\n",
       "134                0.36                       Low\n",
       "135                0.31                       Low\n",
       "136                0.10                  Very Low\n",
       "137                0.42                   Neutral\n",
       "138                0.74                      High\n",
       "139                0.73                      High\n",
       "140                0.09                  Very Low"
      ]
     },
     "execution_count": 29,
     "metadata": {},
     "output_type": "execute_result"
    }
   ],
   "source": [
    "# binning satisfaction level\n",
    "\n",
    "SatisLevelBin = []\n",
    "\n",
    "for i in df['satisfaction_level']:\n",
    "    if i > 0 and i <= 0.2: SatisLevelBin.append('Very Low')\n",
    "    elif i > 0.2 and i <= 0.4: SatisLevelBin.append('Low')\n",
    "    elif i > 0.4 and i <= 0.6: SatisLevelBin.append('Neutral')\n",
    "    elif i > 0.6 and i <= 0.8: SatisLevelBin.append('High')\n",
    "    else: SatisLevelBin.append('Very High')\n",
    "\n",
    "# appending to the dataframe\n",
    "df['satisfaction_level_binned'] = SatisLevelBin\n",
    "\n",
    "# checking if the binning is correct\n",
    "df1 = df[['satisfaction_level', 'satisfaction_level_binned']]\n",
    "df1.iloc[120:141]\n"
   ]
  },
  {
   "cell_type": "code",
   "execution_count": 30,
   "metadata": {},
   "outputs": [
    {
     "data": {
      "text/html": [
       "<div>\n",
       "<style scoped>\n",
       "    .dataframe tbody tr th:only-of-type {\n",
       "        vertical-align: middle;\n",
       "    }\n",
       "\n",
       "    .dataframe tbody tr th {\n",
       "        vertical-align: top;\n",
       "    }\n",
       "\n",
       "    .dataframe thead th {\n",
       "        text-align: right;\n",
       "    }\n",
       "</style>\n",
       "<table border=\"1\" class=\"dataframe\">\n",
       "  <thead>\n",
       "    <tr style=\"text-align: right;\">\n",
       "      <th></th>\n",
       "      <th>satisfaction_level</th>\n",
       "      <th>satisfaction_level_binned</th>\n",
       "    </tr>\n",
       "  </thead>\n",
       "  <tbody>\n",
       "    <tr>\n",
       "      <th>120</th>\n",
       "      <td>0.14</td>\n",
       "      <td>Very Low</td>\n",
       "    </tr>\n",
       "    <tr>\n",
       "      <th>121</th>\n",
       "      <td>0.40</td>\n",
       "      <td>Low</td>\n",
       "    </tr>\n",
       "    <tr>\n",
       "      <th>122</th>\n",
       "      <td>0.75</td>\n",
       "      <td>High</td>\n",
       "    </tr>\n",
       "    <tr>\n",
       "      <th>123</th>\n",
       "      <td>0.11</td>\n",
       "      <td>Very Low</td>\n",
       "    </tr>\n",
       "    <tr>\n",
       "      <th>124</th>\n",
       "      <td>0.46</td>\n",
       "      <td>Neutral</td>\n",
       "    </tr>\n",
       "    <tr>\n",
       "      <th>125</th>\n",
       "      <td>0.11</td>\n",
       "      <td>Very Low</td>\n",
       "    </tr>\n",
       "    <tr>\n",
       "      <th>126</th>\n",
       "      <td>0.38</td>\n",
       "      <td>Low</td>\n",
       "    </tr>\n",
       "    <tr>\n",
       "      <th>127</th>\n",
       "      <td>0.70</td>\n",
       "      <td>High</td>\n",
       "    </tr>\n",
       "    <tr>\n",
       "      <th>128</th>\n",
       "      <td>0.09</td>\n",
       "      <td>Very Low</td>\n",
       "    </tr>\n",
       "    <tr>\n",
       "      <th>129</th>\n",
       "      <td>0.37</td>\n",
       "      <td>Low</td>\n",
       "    </tr>\n",
       "    <tr>\n",
       "      <th>130</th>\n",
       "      <td>0.10</td>\n",
       "      <td>Very Low</td>\n",
       "    </tr>\n",
       "    <tr>\n",
       "      <th>131</th>\n",
       "      <td>0.38</td>\n",
       "      <td>Low</td>\n",
       "    </tr>\n",
       "    <tr>\n",
       "      <th>132</th>\n",
       "      <td>0.90</td>\n",
       "      <td>Very High</td>\n",
       "    </tr>\n",
       "    <tr>\n",
       "      <th>133</th>\n",
       "      <td>0.44</td>\n",
       "      <td>Neutral</td>\n",
       "    </tr>\n",
       "    <tr>\n",
       "      <th>134</th>\n",
       "      <td>0.36</td>\n",
       "      <td>Low</td>\n",
       "    </tr>\n",
       "    <tr>\n",
       "      <th>135</th>\n",
       "      <td>0.31</td>\n",
       "      <td>Low</td>\n",
       "    </tr>\n",
       "    <tr>\n",
       "      <th>136</th>\n",
       "      <td>0.10</td>\n",
       "      <td>Very Low</td>\n",
       "    </tr>\n",
       "    <tr>\n",
       "      <th>137</th>\n",
       "      <td>0.42</td>\n",
       "      <td>Neutral</td>\n",
       "    </tr>\n",
       "    <tr>\n",
       "      <th>138</th>\n",
       "      <td>0.74</td>\n",
       "      <td>High</td>\n",
       "    </tr>\n",
       "    <tr>\n",
       "      <th>139</th>\n",
       "      <td>0.73</td>\n",
       "      <td>High</td>\n",
       "    </tr>\n",
       "    <tr>\n",
       "      <th>140</th>\n",
       "      <td>0.09</td>\n",
       "      <td>Very Low</td>\n",
       "    </tr>\n",
       "  </tbody>\n",
       "</table>\n",
       "</div>"
      ],
      "text/plain": [
       "     satisfaction_level satisfaction_level_binned\n",
       "120                0.14                  Very Low\n",
       "121                0.40                       Low\n",
       "122                0.75                      High\n",
       "123                0.11                  Very Low\n",
       "124                0.46                   Neutral\n",
       "125                0.11                  Very Low\n",
       "126                0.38                       Low\n",
       "127                0.70                      High\n",
       "128                0.09                  Very Low\n",
       "129                0.37                       Low\n",
       "130                0.10                  Very Low\n",
       "131                0.38                       Low\n",
       "132                0.90                 Very High\n",
       "133                0.44                   Neutral\n",
       "134                0.36                       Low\n",
       "135                0.31                       Low\n",
       "136                0.10                  Very Low\n",
       "137                0.42                   Neutral\n",
       "138                0.74                      High\n",
       "139                0.73                      High\n",
       "140                0.09                  Very Low"
      ]
     },
     "execution_count": 30,
     "metadata": {},
     "output_type": "execute_result"
    }
   ],
   "source": [
    "# checking if the binning is correct\n",
    "\n",
    "df1 = df[['satisfaction_level', 'satisfaction_level_binned']]\n",
    "df1.iloc[120:141]"
   ]
  },
  {
   "cell_type": "markdown",
   "metadata": {},
   "source": [
    "#### Last Evaluation Score"
   ]
  },
  {
   "cell_type": "code",
   "execution_count": 31,
   "metadata": {},
   "outputs": [
    {
     "data": {
      "text/html": [
       "<div>\n",
       "<style scoped>\n",
       "    .dataframe tbody tr th:only-of-type {\n",
       "        vertical-align: middle;\n",
       "    }\n",
       "\n",
       "    .dataframe tbody tr th {\n",
       "        vertical-align: top;\n",
       "    }\n",
       "\n",
       "    .dataframe thead th {\n",
       "        text-align: right;\n",
       "    }\n",
       "</style>\n",
       "<table border=\"1\" class=\"dataframe\">\n",
       "  <thead>\n",
       "    <tr style=\"text-align: right;\">\n",
       "      <th></th>\n",
       "      <th>last_evaluation</th>\n",
       "      <th>last_evaluation_binned</th>\n",
       "    </tr>\n",
       "  </thead>\n",
       "  <tbody>\n",
       "    <tr>\n",
       "      <th>121</th>\n",
       "      <td>0.46</td>\n",
       "      <td>So-so</td>\n",
       "    </tr>\n",
       "    <tr>\n",
       "      <th>122</th>\n",
       "      <td>1.00</td>\n",
       "      <td>Very Good</td>\n",
       "    </tr>\n",
       "    <tr>\n",
       "      <th>123</th>\n",
       "      <td>0.84</td>\n",
       "      <td>Very Good</td>\n",
       "    </tr>\n",
       "    <tr>\n",
       "      <th>124</th>\n",
       "      <td>0.49</td>\n",
       "      <td>So-so</td>\n",
       "    </tr>\n",
       "    <tr>\n",
       "      <th>125</th>\n",
       "      <td>0.92</td>\n",
       "      <td>Very Good</td>\n",
       "    </tr>\n",
       "    <tr>\n",
       "      <th>126</th>\n",
       "      <td>0.49</td>\n",
       "      <td>So-so</td>\n",
       "    </tr>\n",
       "    <tr>\n",
       "      <th>127</th>\n",
       "      <td>0.89</td>\n",
       "      <td>Very Good</td>\n",
       "    </tr>\n",
       "    <tr>\n",
       "      <th>128</th>\n",
       "      <td>0.82</td>\n",
       "      <td>Very Good</td>\n",
       "    </tr>\n",
       "    <tr>\n",
       "      <th>129</th>\n",
       "      <td>0.45</td>\n",
       "      <td>So-so</td>\n",
       "    </tr>\n",
       "    <tr>\n",
       "      <th>130</th>\n",
       "      <td>0.83</td>\n",
       "      <td>Very Good</td>\n",
       "    </tr>\n",
       "    <tr>\n",
       "      <th>131</th>\n",
       "      <td>0.57</td>\n",
       "      <td>So-so</td>\n",
       "    </tr>\n",
       "    <tr>\n",
       "      <th>132</th>\n",
       "      <td>1.00</td>\n",
       "      <td>Very Good</td>\n",
       "    </tr>\n",
       "    <tr>\n",
       "      <th>133</th>\n",
       "      <td>0.51</td>\n",
       "      <td>So-so</td>\n",
       "    </tr>\n",
       "    <tr>\n",
       "      <th>134</th>\n",
       "      <td>0.50</td>\n",
       "      <td>So-so</td>\n",
       "    </tr>\n",
       "    <tr>\n",
       "      <th>135</th>\n",
       "      <td>0.84</td>\n",
       "      <td>Very Good</td>\n",
       "    </tr>\n",
       "    <tr>\n",
       "      <th>136</th>\n",
       "      <td>0.84</td>\n",
       "      <td>Very Good</td>\n",
       "    </tr>\n",
       "    <tr>\n",
       "      <th>137</th>\n",
       "      <td>0.48</td>\n",
       "      <td>So-so</td>\n",
       "    </tr>\n",
       "    <tr>\n",
       "      <th>138</th>\n",
       "      <td>1.00</td>\n",
       "      <td>Very Good</td>\n",
       "    </tr>\n",
       "    <tr>\n",
       "      <th>139</th>\n",
       "      <td>0.87</td>\n",
       "      <td>Very Good</td>\n",
       "    </tr>\n",
       "    <tr>\n",
       "      <th>140</th>\n",
       "      <td>0.96</td>\n",
       "      <td>Very Good</td>\n",
       "    </tr>\n",
       "    <tr>\n",
       "      <th>141</th>\n",
       "      <td>0.53</td>\n",
       "      <td>So-so</td>\n",
       "    </tr>\n",
       "  </tbody>\n",
       "</table>\n",
       "</div>"
      ],
      "text/plain": [
       "     last_evaluation last_evaluation_binned\n",
       "121             0.46                  So-so\n",
       "122             1.00              Very Good\n",
       "123             0.84              Very Good\n",
       "124             0.49                  So-so\n",
       "125             0.92              Very Good\n",
       "126             0.49                  So-so\n",
       "127             0.89              Very Good\n",
       "128             0.82              Very Good\n",
       "129             0.45                  So-so\n",
       "130             0.83              Very Good\n",
       "131             0.57                  So-so\n",
       "132             1.00              Very Good\n",
       "133             0.51                  So-so\n",
       "134             0.50                  So-so\n",
       "135             0.84              Very Good\n",
       "136             0.84              Very Good\n",
       "137             0.48                  So-so\n",
       "138             1.00              Very Good\n",
       "139             0.87              Very Good\n",
       "140             0.96              Very Good\n",
       "141             0.53                  So-so"
      ]
     },
     "execution_count": 31,
     "metadata": {},
     "output_type": "execute_result"
    }
   ],
   "source": [
    "# binning last evaluation score\n",
    "\n",
    "LastEvalBin = []\n",
    "\n",
    "for i in df['last_evaluation']:\n",
    "    if i > 0 and i <= 0.2: LastEvalBin.append('Very Poor')\n",
    "    elif i > 0.2 and i <= 0.4: LastEvalBin.append('Poor')\n",
    "    elif i > 0.4 and i <= 0.6: LastEvalBin.append('So-so')\n",
    "    elif i > 0.6 and i <= 0.8: LastEvalBin.append('Good')\n",
    "    else: LastEvalBin.append('Very Good')\n",
    "\n",
    "# appending to the dataframe\n",
    "df['last_evaluation_binned'] = LastEvalBin\n",
    "\n",
    "# checking if the binning is correct\n",
    "df2 = df[['last_evaluation', 'last_evaluation_binned']]\n",
    "df2.iloc[121:142]"
   ]
  },
  {
   "cell_type": "markdown",
   "metadata": {},
   "source": [
    "#### Number of Projects"
   ]
  },
  {
   "cell_type": "code",
   "execution_count": 32,
   "metadata": {},
   "outputs": [
    {
     "data": {
      "text/html": [
       "<div>\n",
       "<style scoped>\n",
       "    .dataframe tbody tr th:only-of-type {\n",
       "        vertical-align: middle;\n",
       "    }\n",
       "\n",
       "    .dataframe tbody tr th {\n",
       "        vertical-align: top;\n",
       "    }\n",
       "\n",
       "    .dataframe thead th {\n",
       "        text-align: right;\n",
       "    }\n",
       "</style>\n",
       "<table border=\"1\" class=\"dataframe\">\n",
       "  <thead>\n",
       "    <tr style=\"text-align: right;\">\n",
       "      <th></th>\n",
       "      <th>number_project</th>\n",
       "      <th>number_project_binned</th>\n",
       "    </tr>\n",
       "  </thead>\n",
       "  <tbody>\n",
       "    <tr>\n",
       "      <th>121</th>\n",
       "      <td>2.0</td>\n",
       "      <td>2-3 Projects</td>\n",
       "    </tr>\n",
       "    <tr>\n",
       "      <th>122</th>\n",
       "      <td>4.0</td>\n",
       "      <td>4 Projects</td>\n",
       "    </tr>\n",
       "    <tr>\n",
       "      <th>123</th>\n",
       "      <td>6.0</td>\n",
       "      <td>6 Projects</td>\n",
       "    </tr>\n",
       "    <tr>\n",
       "      <th>124</th>\n",
       "      <td>2.0</td>\n",
       "      <td>2-3 Projects</td>\n",
       "    </tr>\n",
       "    <tr>\n",
       "      <th>125</th>\n",
       "      <td>6.0</td>\n",
       "      <td>6 Projects</td>\n",
       "    </tr>\n",
       "    <tr>\n",
       "      <th>126</th>\n",
       "      <td>2.0</td>\n",
       "      <td>2-3 Projects</td>\n",
       "    </tr>\n",
       "    <tr>\n",
       "      <th>127</th>\n",
       "      <td>3.0</td>\n",
       "      <td>2-3 Projects</td>\n",
       "    </tr>\n",
       "    <tr>\n",
       "      <th>128</th>\n",
       "      <td>6.0</td>\n",
       "      <td>6 Projects</td>\n",
       "    </tr>\n",
       "    <tr>\n",
       "      <th>129</th>\n",
       "      <td>2.0</td>\n",
       "      <td>2-3 Projects</td>\n",
       "    </tr>\n",
       "    <tr>\n",
       "      <th>130</th>\n",
       "      <td>6.0</td>\n",
       "      <td>6 Projects</td>\n",
       "    </tr>\n",
       "    <tr>\n",
       "      <th>131</th>\n",
       "      <td>2.0</td>\n",
       "      <td>2-3 Projects</td>\n",
       "    </tr>\n",
       "    <tr>\n",
       "      <th>132</th>\n",
       "      <td>5.0</td>\n",
       "      <td>5 Projects</td>\n",
       "    </tr>\n",
       "    <tr>\n",
       "      <th>133</th>\n",
       "      <td>2.0</td>\n",
       "      <td>2-3 Projects</td>\n",
       "    </tr>\n",
       "    <tr>\n",
       "      <th>134</th>\n",
       "      <td>2.0</td>\n",
       "      <td>2-3 Projects</td>\n",
       "    </tr>\n",
       "    <tr>\n",
       "      <th>135</th>\n",
       "      <td>7.0</td>\n",
       "      <td>7 Projects</td>\n",
       "    </tr>\n",
       "    <tr>\n",
       "      <th>136</th>\n",
       "      <td>6.0</td>\n",
       "      <td>6 Projects</td>\n",
       "    </tr>\n",
       "    <tr>\n",
       "      <th>137</th>\n",
       "      <td>2.0</td>\n",
       "      <td>2-3 Projects</td>\n",
       "    </tr>\n",
       "    <tr>\n",
       "      <th>138</th>\n",
       "      <td>4.0</td>\n",
       "      <td>4 Projects</td>\n",
       "    </tr>\n",
       "    <tr>\n",
       "      <th>139</th>\n",
       "      <td>5.0</td>\n",
       "      <td>5 Projects</td>\n",
       "    </tr>\n",
       "    <tr>\n",
       "      <th>140</th>\n",
       "      <td>6.0</td>\n",
       "      <td>6 Projects</td>\n",
       "    </tr>\n",
       "    <tr>\n",
       "      <th>141</th>\n",
       "      <td>2.0</td>\n",
       "      <td>2-3 Projects</td>\n",
       "    </tr>\n",
       "  </tbody>\n",
       "</table>\n",
       "</div>"
      ],
      "text/plain": [
       "     number_project number_project_binned\n",
       "121             2.0          2-3 Projects\n",
       "122             4.0            4 Projects\n",
       "123             6.0            6 Projects\n",
       "124             2.0          2-3 Projects\n",
       "125             6.0            6 Projects\n",
       "126             2.0          2-3 Projects\n",
       "127             3.0          2-3 Projects\n",
       "128             6.0            6 Projects\n",
       "129             2.0          2-3 Projects\n",
       "130             6.0            6 Projects\n",
       "131             2.0          2-3 Projects\n",
       "132             5.0            5 Projects\n",
       "133             2.0          2-3 Projects\n",
       "134             2.0          2-3 Projects\n",
       "135             7.0            7 Projects\n",
       "136             6.0            6 Projects\n",
       "137             2.0          2-3 Projects\n",
       "138             4.0            4 Projects\n",
       "139             5.0            5 Projects\n",
       "140             6.0            6 Projects\n",
       "141             2.0          2-3 Projects"
      ]
     },
     "execution_count": 32,
     "metadata": {},
     "output_type": "execute_result"
    }
   ],
   "source": [
    "#binning number of project (min =2, max=7)\n",
    "\n",
    "ProjectBin = []\n",
    "\n",
    "for i in df['number_project']:\n",
    "    if i <= 3: ProjectBin.append('2-3 Projects')\n",
    "    elif i == 4: ProjectBin.append('4 Projects')\n",
    "    elif i == 5: ProjectBin.append('5 Projects')\n",
    "    elif i == 6: ProjectBin.append('6 Projects')\n",
    "    else: ProjectBin.append('7 Projects')\n",
    "\n",
    "# appending to the dataframe\n",
    "df['number_project_binned'] = ProjectBin\n",
    "\n",
    "# checking if the binning is correct\n",
    "df3 = df[['number_project', 'number_project_binned']]\n",
    "df3.iloc[121:142]"
   ]
  },
  {
   "cell_type": "markdown",
   "metadata": {},
   "source": [
    "#### AVG Monthly Hours"
   ]
  },
  {
   "cell_type": "code",
   "execution_count": 33,
   "metadata": {},
   "outputs": [
    {
     "data": {
      "text/plain": [
       "count    14999.000000\n",
       "mean       201.050337\n",
       "std         49.943099\n",
       "min         96.000000\n",
       "25%        156.000000\n",
       "50%        200.000000\n",
       "75%        245.000000\n",
       "max        310.000000\n",
       "Name: average_monthly_hours, dtype: float64"
      ]
     },
     "execution_count": 33,
     "metadata": {},
     "output_type": "execute_result"
    }
   ],
   "source": [
    "# binning monthly hours\n",
    "\n",
    "df['average_monthly_hours'].describe()"
   ]
  },
  {
   "cell_type": "markdown",
   "metadata": {},
   "source": [
    "So the min is 96 hours while the max is 310."
   ]
  },
  {
   "cell_type": "code",
   "execution_count": 34,
   "metadata": {},
   "outputs": [
    {
     "data": {
      "text/plain": [
       "42.8"
      ]
     },
     "execution_count": 34,
     "metadata": {},
     "output_type": "execute_result"
    }
   ],
   "source": [
    "# binning monthly hours\n",
    "\n",
    "(310-96)/5"
   ]
  },
  {
   "cell_type": "markdown",
   "metadata": {},
   "source": [
    "The bins need to be 42.8 hours each, in 5 bins scenario."
   ]
  },
  {
   "cell_type": "code",
   "execution_count": 35,
   "metadata": {},
   "outputs": [
    {
     "data": {
      "text/html": [
       "<div>\n",
       "<style scoped>\n",
       "    .dataframe tbody tr th:only-of-type {\n",
       "        vertical-align: middle;\n",
       "    }\n",
       "\n",
       "    .dataframe tbody tr th {\n",
       "        vertical-align: top;\n",
       "    }\n",
       "\n",
       "    .dataframe thead th {\n",
       "        text-align: right;\n",
       "    }\n",
       "</style>\n",
       "<table border=\"1\" class=\"dataframe\">\n",
       "  <thead>\n",
       "    <tr style=\"text-align: right;\">\n",
       "      <th></th>\n",
       "      <th>average_monthly_hours</th>\n",
       "      <th>average_monthly_hours_binned</th>\n",
       "    </tr>\n",
       "  </thead>\n",
       "  <tbody>\n",
       "    <tr>\n",
       "      <th>121</th>\n",
       "      <td>135.0</td>\n",
       "      <td>Low</td>\n",
       "    </tr>\n",
       "    <tr>\n",
       "      <th>122</th>\n",
       "      <td>216.0</td>\n",
       "      <td>A Bit High</td>\n",
       "    </tr>\n",
       "    <tr>\n",
       "      <th>123</th>\n",
       "      <td>300.0</td>\n",
       "      <td>Very High</td>\n",
       "    </tr>\n",
       "    <tr>\n",
       "      <th>124</th>\n",
       "      <td>138.0</td>\n",
       "      <td>Low</td>\n",
       "    </tr>\n",
       "    <tr>\n",
       "      <th>125</th>\n",
       "      <td>260.0</td>\n",
       "      <td>High</td>\n",
       "    </tr>\n",
       "    <tr>\n",
       "      <th>126</th>\n",
       "      <td>132.0</td>\n",
       "      <td>Low</td>\n",
       "    </tr>\n",
       "    <tr>\n",
       "      <th>127</th>\n",
       "      <td>183.0</td>\n",
       "      <td>A Bit High</td>\n",
       "    </tr>\n",
       "    <tr>\n",
       "      <th>128</th>\n",
       "      <td>250.0</td>\n",
       "      <td>High</td>\n",
       "    </tr>\n",
       "    <tr>\n",
       "      <th>129</th>\n",
       "      <td>151.0</td>\n",
       "      <td>A Bit Low/Right</td>\n",
       "    </tr>\n",
       "    <tr>\n",
       "      <th>130</th>\n",
       "      <td>292.0</td>\n",
       "      <td>Very High</td>\n",
       "    </tr>\n",
       "    <tr>\n",
       "      <th>131</th>\n",
       "      <td>140.0</td>\n",
       "      <td>A Bit Low/Right</td>\n",
       "    </tr>\n",
       "    <tr>\n",
       "      <th>132</th>\n",
       "      <td>221.0</td>\n",
       "      <td>A Bit High</td>\n",
       "    </tr>\n",
       "    <tr>\n",
       "      <th>133</th>\n",
       "      <td>138.0</td>\n",
       "      <td>Low</td>\n",
       "    </tr>\n",
       "    <tr>\n",
       "      <th>134</th>\n",
       "      <td>132.0</td>\n",
       "      <td>Low</td>\n",
       "    </tr>\n",
       "    <tr>\n",
       "      <th>135</th>\n",
       "      <td>133.0</td>\n",
       "      <td>Low</td>\n",
       "    </tr>\n",
       "    <tr>\n",
       "      <th>136</th>\n",
       "      <td>283.0</td>\n",
       "      <td>Very High</td>\n",
       "    </tr>\n",
       "    <tr>\n",
       "      <th>137</th>\n",
       "      <td>129.0</td>\n",
       "      <td>Low</td>\n",
       "    </tr>\n",
       "    <tr>\n",
       "      <th>138</th>\n",
       "      <td>249.0</td>\n",
       "      <td>High</td>\n",
       "    </tr>\n",
       "    <tr>\n",
       "      <th>139</th>\n",
       "      <td>257.0</td>\n",
       "      <td>High</td>\n",
       "    </tr>\n",
       "    <tr>\n",
       "      <th>140</th>\n",
       "      <td>245.0</td>\n",
       "      <td>High</td>\n",
       "    </tr>\n",
       "    <tr>\n",
       "      <th>141</th>\n",
       "      <td>155.0</td>\n",
       "      <td>A Bit Low/Right</td>\n",
       "    </tr>\n",
       "  </tbody>\n",
       "</table>\n",
       "</div>"
      ],
      "text/plain": [
       "     average_monthly_hours average_monthly_hours_binned\n",
       "121                  135.0                          Low\n",
       "122                  216.0                   A Bit High\n",
       "123                  300.0                    Very High\n",
       "124                  138.0                          Low\n",
       "125                  260.0                         High\n",
       "126                  132.0                          Low\n",
       "127                  183.0                   A Bit High\n",
       "128                  250.0                         High\n",
       "129                  151.0              A Bit Low/Right\n",
       "130                  292.0                    Very High\n",
       "131                  140.0              A Bit Low/Right\n",
       "132                  221.0                   A Bit High\n",
       "133                  138.0                          Low\n",
       "134                  132.0                          Low\n",
       "135                  133.0                          Low\n",
       "136                  283.0                    Very High\n",
       "137                  129.0                          Low\n",
       "138                  249.0                         High\n",
       "139                  257.0                         High\n",
       "140                  245.0                         High\n",
       "141                  155.0              A Bit Low/Right"
      ]
     },
     "execution_count": 35,
     "metadata": {},
     "output_type": "execute_result"
    }
   ],
   "source": [
    "# binning monthly hours\n",
    "\n",
    "MonthlyHoursBin = []\n",
    "\n",
    "for i in df['average_monthly_hours']:\n",
    "    if i > 96 and i <= 138.8: MonthlyHoursBin.append('Low')\n",
    "    elif i > 138.8 and i <= 181.6: MonthlyHoursBin.append('A Bit Low/Right') # remember 22 days a month 8 hours a day = 176\n",
    "    elif i > 181.6 and i <= 224.4: MonthlyHoursBin.append('A Bit High')\n",
    "    elif i > 224.4 and i <= 267.2: MonthlyHoursBin.append('High')\n",
    "    else: MonthlyHoursBin.append('Very High')\n",
    "\n",
    "# appending to the dataframe\n",
    "df['average_monthly_hours_binned'] = MonthlyHoursBin\n",
    "\n",
    "# checking if the binning is correct\n",
    "df4 = df[['average_monthly_hours', 'average_monthly_hours_binned']]\n",
    "df4.iloc[121:142]"
   ]
  },
  {
   "cell_type": "markdown",
   "metadata": {},
   "source": [
    "Time Spent in Company (column name: 'time_spend_company') will not be binned as there's little continuous value in that data to the point it behaves like a categorical column as far as chi-square test is concerned."
   ]
  },
  {
   "cell_type": "markdown",
   "metadata": {},
   "source": [
    "### Hypothesis Testing"
   ]
  },
  {
   "cell_type": "markdown",
   "metadata": {},
   "source": [
    "#### Last Evaluation Score on Satisfaction Level\n",
    "\n",
    "To see if performance and/or appreciation (in shape of scores) affect employee's satisfaction level."
   ]
  },
  {
   "cell_type": "markdown",
   "metadata": {},
   "source": [
    " ##### H0 : There is no relationship between Satisfaction Level and Last Evaluation Score\n",
    "\n",
    "H1 : There is a relationship between Satisfaction Level and Last Evaluation Score"
   ]
  },
  {
   "cell_type": "code",
   "execution_count": 36,
   "metadata": {},
   "outputs": [
    {
     "data": {
      "text/html": [
       "<div>\n",
       "<style scoped>\n",
       "    .dataframe tbody tr th:only-of-type {\n",
       "        vertical-align: middle;\n",
       "    }\n",
       "\n",
       "    .dataframe tbody tr th {\n",
       "        vertical-align: top;\n",
       "    }\n",
       "\n",
       "    .dataframe thead th {\n",
       "        text-align: right;\n",
       "    }\n",
       "</style>\n",
       "<table border=\"1\" class=\"dataframe\">\n",
       "  <thead>\n",
       "    <tr style=\"text-align: right;\">\n",
       "      <th>last_evaluation_binned</th>\n",
       "      <th>Poor</th>\n",
       "      <th>So-so</th>\n",
       "      <th>Good</th>\n",
       "      <th>Very Good</th>\n",
       "    </tr>\n",
       "    <tr>\n",
       "      <th>satisfaction_level_binned</th>\n",
       "      <th></th>\n",
       "      <th></th>\n",
       "      <th></th>\n",
       "      <th></th>\n",
       "    </tr>\n",
       "  </thead>\n",
       "  <tbody>\n",
       "    <tr>\n",
       "      <th>Very High</th>\n",
       "      <td>29</td>\n",
       "      <td>906</td>\n",
       "      <td>1311</td>\n",
       "      <td>1756</td>\n",
       "    </tr>\n",
       "    <tr>\n",
       "      <th>High</th>\n",
       "      <td>59</td>\n",
       "      <td>1003</td>\n",
       "      <td>1492</td>\n",
       "      <td>1714</td>\n",
       "    </tr>\n",
       "    <tr>\n",
       "      <th>Neutral</th>\n",
       "      <td>75</td>\n",
       "      <td>1620</td>\n",
       "      <td>1049</td>\n",
       "      <td>861</td>\n",
       "    </tr>\n",
       "    <tr>\n",
       "      <th>Low</th>\n",
       "      <td>59</td>\n",
       "      <td>1038</td>\n",
       "      <td>308</td>\n",
       "      <td>241</td>\n",
       "    </tr>\n",
       "    <tr>\n",
       "      <th>Very Low</th>\n",
       "      <td>14</td>\n",
       "      <td>160</td>\n",
       "      <td>387</td>\n",
       "      <td>917</td>\n",
       "    </tr>\n",
       "  </tbody>\n",
       "</table>\n",
       "</div>"
      ],
      "text/plain": [
       "last_evaluation_binned     Poor  So-so  Good  Very Good\n",
       "satisfaction_level_binned                              \n",
       "Very High                    29    906  1311       1756\n",
       "High                         59   1003  1492       1714\n",
       "Neutral                      75   1620  1049        861\n",
       "Low                          59   1038   308        241\n",
       "Very Low                     14    160   387        917"
      ]
     },
     "execution_count": 36,
     "metadata": {},
     "output_type": "execute_result"
    }
   ],
   "source": [
    "# contingency table:\n",
    "\n",
    "contingency_table = pd.crosstab(df['satisfaction_level_binned'],df['last_evaluation_binned']).reindex([\n",
    "    'Very High', 'High', 'Neutral', 'Low', 'Very Low' ])[[\n",
    "    'Poor', 'So-so', 'Good', 'Very Good']]\n",
    "\n",
    "contingency_table"
   ]
  },
  {
   "cell_type": "code",
   "execution_count": 37,
   "metadata": {},
   "outputs": [
    {
     "name": "stdout",
     "output_type": "stream",
     "text": [
      "P-value: 0.0\n"
     ]
    }
   ],
   "source": [
    "# chi squared test:\n",
    "\n",
    "res = stats.chi2_contingency(contingency_table)\n",
    "print(\"P-value:\",res.pvalue)"
   ]
  },
  {
   "cell_type": "markdown",
   "metadata": {},
   "source": [
    "##### P-value returns 0.0, which is less than the critical value of 0.05 within 95% confidence level. Therefore, H1 cannot be rejected, there is a relationship between Satisfaction Level and Last Evaluation Score.\n",
    "\n",
    "Let's see it with a heatmap."
   ]
  },
  {
   "cell_type": "code",
   "execution_count": 38,
   "metadata": {},
   "outputs": [
    {
     "data": {
      "text/html": [
       "<div>\n",
       "<style scoped>\n",
       "    .dataframe tbody tr th:only-of-type {\n",
       "        vertical-align: middle;\n",
       "    }\n",
       "\n",
       "    .dataframe tbody tr th {\n",
       "        vertical-align: top;\n",
       "    }\n",
       "\n",
       "    .dataframe thead th {\n",
       "        text-align: right;\n",
       "    }\n",
       "</style>\n",
       "<table border=\"1\" class=\"dataframe\">\n",
       "  <thead>\n",
       "    <tr style=\"text-align: right;\">\n",
       "      <th>last_evaluation_binned</th>\n",
       "      <th>Poor</th>\n",
       "      <th>So-so</th>\n",
       "      <th>Good</th>\n",
       "      <th>Very Good</th>\n",
       "    </tr>\n",
       "    <tr>\n",
       "      <th>satisfaction_level_binned</th>\n",
       "      <th></th>\n",
       "      <th></th>\n",
       "      <th></th>\n",
       "      <th></th>\n",
       "    </tr>\n",
       "  </thead>\n",
       "  <tbody>\n",
       "    <tr>\n",
       "      <th>Very High</th>\n",
       "      <td>0.122881</td>\n",
       "      <td>0.191665</td>\n",
       "      <td>0.288322</td>\n",
       "      <td>0.319913</td>\n",
       "    </tr>\n",
       "    <tr>\n",
       "      <th>High</th>\n",
       "      <td>0.250000</td>\n",
       "      <td>0.212185</td>\n",
       "      <td>0.328128</td>\n",
       "      <td>0.312261</td>\n",
       "    </tr>\n",
       "    <tr>\n",
       "      <th>Neutral</th>\n",
       "      <td>0.317797</td>\n",
       "      <td>0.342712</td>\n",
       "      <td>0.230702</td>\n",
       "      <td>0.156859</td>\n",
       "    </tr>\n",
       "    <tr>\n",
       "      <th>Low</th>\n",
       "      <td>0.250000</td>\n",
       "      <td>0.219590</td>\n",
       "      <td>0.067737</td>\n",
       "      <td>0.043906</td>\n",
       "    </tr>\n",
       "    <tr>\n",
       "      <th>Very Low</th>\n",
       "      <td>0.059322</td>\n",
       "      <td>0.033848</td>\n",
       "      <td>0.085111</td>\n",
       "      <td>0.167061</td>\n",
       "    </tr>\n",
       "  </tbody>\n",
       "</table>\n",
       "</div>"
      ],
      "text/plain": [
       "last_evaluation_binned         Poor     So-so      Good  Very Good\n",
       "satisfaction_level_binned                                         \n",
       "Very High                  0.122881  0.191665  0.288322   0.319913\n",
       "High                       0.250000  0.212185  0.328128   0.312261\n",
       "Neutral                    0.317797  0.342712  0.230702   0.156859\n",
       "Low                        0.250000  0.219590  0.067737   0.043906\n",
       "Very Low                   0.059322  0.033848  0.085111   0.167061"
      ]
     },
     "execution_count": 38,
     "metadata": {},
     "output_type": "execute_result"
    }
   ],
   "source": [
    "# doing this to see the percentage of population in each \n",
    "contingency_table1 = pd.crosstab(df['satisfaction_level_binned'],df['last_evaluation_binned'],normalize='columns').reindex([\n",
    "    'Very High', 'High', 'Neutral', 'Low', 'Very Low' ])[[\n",
    "    'Poor', 'So-so', 'Good', 'Very Good']]\n",
    "\n",
    "contingency_table1"
   ]
  },
  {
   "cell_type": "code",
   "execution_count": 39,
   "metadata": {},
   "outputs": [
    {
     "data": {
      "text/plain": [
       "Text(50.722222222222214, 0.5, 'Satisfaction Level')"
      ]
     },
     "execution_count": 39,
     "metadata": {},
     "output_type": "execute_result"
    },
    {
     "data": {
      "image/png": "[encoded data removed]",
      "text/plain": [
       "<Figure size 640x480 with 2 Axes>"
      ]
     },
     "metadata": {},
     "output_type": "display_data"
    }
   ],
   "source": [
    "# making heatmap of satisfaction level scores grouped by eval score bins\n",
    "\n",
    "fig,ax = plt.subplots()\n",
    "sns.heatmap(contingency_table)\n",
    "ax.set_title('Frequency of employee satisfaction scores grouped by last evaluation score')\n",
    "plt.xlabel('Last Evaluation Score')\n",
    "plt.ylabel('Satisfaction Level')"
   ]
  },
  {
   "cell_type": "markdown",
   "metadata": {},
   "source": [
    "From this heatmap we can see that a lot of people who are scored with Good (6-8 out of 10) and Very Good (8-10 out of 10) mostly stated that they're satisfied with their jobs. While employees who were rated poor and so-so (4-6 out of 10) on their performance are more likely to report a Neutral (4-6 out of 10) or Low (2-4 out of 10) satisfaction score.\n",
    "\n",
    "**However...**\n",
    "\n",
    "You see that in Poor evaluation group, it's all black. It's because there's low frequency in that group. But that means we can't see the satisfaction levels reported by people in that group. **So, I think it's better to show the colors as percentages of people in each group.**\n"
   ]
  },
  {
   "cell_type": "code",
   "execution_count": 40,
   "metadata": {},
   "outputs": [
    {
     "data": {
      "text/plain": [
       "(array([0.5, 1.5, 2.5, 3.5, 4.5]),\n",
       " [Text(0, 0.5, 'Very High'),\n",
       "  Text(0, 1.5, 'High'),\n",
       "  Text(0, 2.5, 'Neutral'),\n",
       "  Text(0, 3.5, 'Low'),\n",
       "  Text(0, 4.5, 'Very Low')])"
      ]
     },
     "execution_count": 40,
     "metadata": {},
     "output_type": "execute_result"
    },
    {
     "data": {
      "image/png": "[encoded data removed]",
      "text/plain": [
       "<Figure size 640x480 with 2 Axes>"
      ]
     },
     "metadata": {},
     "output_type": "display_data"
    }
   ],
   "source": [
    "#making heatmap of how many percentage from eval score group that reported which satisfaction level\n",
    "\n",
    "fig,ax = plt.subplots()\n",
    "sns.heatmap(contingency_table1, annot=True)\n",
    "ax.set_title('Percentage of employees in each evaluation score bin and their reported satisfaction level')\n",
    "plt.xlabel('Last Evaluation Score')\n",
    "plt.ylabel('Satisfaction Level')\n",
    "plt.yticks(rotation=0)"
   ]
  },
  {
   "cell_type": "markdown",
   "metadata": {},
   "source": [
    "( Notice: I have looked up why the labels don't show up for each rectangle in the heatmap (in VS code) apparently it's a Seaborn/Matplotlib lib bug thing and I can't seem to fix the problem--so like, it's not an error on my fault, it's the lib )"
   ]
  },
  {
   "cell_type": "markdown",
   "metadata": {},
   "source": [
    "This heatmap have each rectangle representing the percentage of employees each of their last evaluation score grouping. So, 0.32, or, 32% people in Very Good last-evaluation score (8-10 out of 10) reported Very High satisfaction level (8-10 out of 10), while only 12% of employees with Poor evaluation score (2-4 out of 10) reported Very High satisfaction levels.\n",
    "\n",
    "I feel like many factors can affect evaluation scores, such as personal politics, supervisor's bias in scoring, etc. I'll advise on focusing on employee's skills and performance and see if it can be improved further so that the employees can feel more achieved and hence feel more satisfied."
   ]
  },
  {
   "cell_type": "markdown",
   "metadata": {},
   "source": [
    "#### Number of Projects on Satisfaction Level\n",
    "\n",
    "To see if the number of projects have a relationship with satisfaction level."
   ]
  },
  {
   "cell_type": "markdown",
   "metadata": {},
   "source": [
    " ##### H0 : There is no relationship between Satisfaction Level and Number of Projects\n",
    "\n",
    "H1 : There is a relationship between Satisfaction Level and Last Number of Projects"
   ]
  },
  {
   "cell_type": "code",
   "execution_count": 41,
   "metadata": {},
   "outputs": [
    {
     "data": {
      "text/html": [
       "<div>\n",
       "<style scoped>\n",
       "    .dataframe tbody tr th:only-of-type {\n",
       "        vertical-align: middle;\n",
       "    }\n",
       "\n",
       "    .dataframe tbody tr th {\n",
       "        vertical-align: top;\n",
       "    }\n",
       "\n",
       "    .dataframe thead th {\n",
       "        text-align: right;\n",
       "    }\n",
       "</style>\n",
       "<table border=\"1\" class=\"dataframe\">\n",
       "  <thead>\n",
       "    <tr style=\"text-align: right;\">\n",
       "      <th>number_project_binned</th>\n",
       "      <th>2-3 Projects</th>\n",
       "      <th>4 Projects</th>\n",
       "      <th>5 Projects</th>\n",
       "      <th>6 Projects</th>\n",
       "      <th>7 Projects</th>\n",
       "    </tr>\n",
       "    <tr>\n",
       "      <th>satisfaction_level_binned</th>\n",
       "      <th></th>\n",
       "      <th></th>\n",
       "      <th></th>\n",
       "      <th></th>\n",
       "      <th></th>\n",
       "    </tr>\n",
       "  </thead>\n",
       "  <tbody>\n",
       "    <tr>\n",
       "      <th>Very High</th>\n",
       "      <td>1428</td>\n",
       "      <td>1493</td>\n",
       "      <td>998</td>\n",
       "      <td>83</td>\n",
       "      <td>0</td>\n",
       "    </tr>\n",
       "    <tr>\n",
       "      <th>High</th>\n",
       "      <td>1686</td>\n",
       "      <td>1557</td>\n",
       "      <td>922</td>\n",
       "      <td>102</td>\n",
       "      <td>1</td>\n",
       "    </tr>\n",
       "    <tr>\n",
       "      <th>Neutral</th>\n",
       "      <td>2107</td>\n",
       "      <td>950</td>\n",
       "      <td>447</td>\n",
       "      <td>97</td>\n",
       "      <td>4</td>\n",
       "    </tr>\n",
       "    <tr>\n",
       "      <th>Low</th>\n",
       "      <td>1097</td>\n",
       "      <td>207</td>\n",
       "      <td>186</td>\n",
       "      <td>146</td>\n",
       "      <td>10</td>\n",
       "    </tr>\n",
       "    <tr>\n",
       "      <th>Very Low</th>\n",
       "      <td>125</td>\n",
       "      <td>158</td>\n",
       "      <td>208</td>\n",
       "      <td>746</td>\n",
       "      <td>241</td>\n",
       "    </tr>\n",
       "  </tbody>\n",
       "</table>\n",
       "</div>"
      ],
      "text/plain": [
       "number_project_binned      2-3 Projects  4 Projects  5 Projects  6 Projects  \\\n",
       "satisfaction_level_binned                                                     \n",
       "Very High                          1428        1493         998          83   \n",
       "High                               1686        1557         922         102   \n",
       "Neutral                            2107         950         447          97   \n",
       "Low                                1097         207         186         146   \n",
       "Very Low                            125         158         208         746   \n",
       "\n",
       "number_project_binned      7 Projects  \n",
       "satisfaction_level_binned              \n",
       "Very High                           0  \n",
       "High                                1  \n",
       "Neutral                             4  \n",
       "Low                                10  \n",
       "Very Low                          241  "
      ]
     },
     "execution_count": 41,
     "metadata": {},
     "output_type": "execute_result"
    }
   ],
   "source": [
    "# contingency table:\n",
    "\n",
    "contingency_table3 = pd.crosstab(df['satisfaction_level_binned'],df['number_project_binned']).reindex([\n",
    "    'Very High', 'High', 'Neutral', 'Low', 'Very Low' ])[[\n",
    "    '2-3 Projects', '4 Projects', '5 Projects', '6 Projects', '7 Projects']]\n",
    "\n",
    "contingency_table3"
   ]
  },
  {
   "cell_type": "code",
   "execution_count": 42,
   "metadata": {},
   "outputs": [
    {
     "name": "stdout",
     "output_type": "stream",
     "text": [
      "P-value: 0.0\n"
     ]
    }
   ],
   "source": [
    "# chi squared test:\n",
    "\n",
    "res = stats.chi2_contingency(contingency_table3)\n",
    "print(\"P-value:\",res.pvalue)"
   ]
  },
  {
   "cell_type": "markdown",
   "metadata": {},
   "source": [
    "##### P-value returns 0.0, which is less than the critical value of 0.05 within 95% confidence level. Therefore, H1 cannot be rejected, there is a relationship between Satisfaction Level and Number of Projects.\n",
    "\n",
    "Let's see it with a heatmap."
   ]
  },
  {
   "cell_type": "code",
   "execution_count": 43,
   "metadata": {},
   "outputs": [
    {
     "data": {
      "text/html": [
       "<div>\n",
       "<style scoped>\n",
       "    .dataframe tbody tr th:only-of-type {\n",
       "        vertical-align: middle;\n",
       "    }\n",
       "\n",
       "    .dataframe tbody tr th {\n",
       "        vertical-align: top;\n",
       "    }\n",
       "\n",
       "    .dataframe thead th {\n",
       "        text-align: right;\n",
       "    }\n",
       "</style>\n",
       "<table border=\"1\" class=\"dataframe\">\n",
       "  <thead>\n",
       "    <tr style=\"text-align: right;\">\n",
       "      <th>number_project_binned</th>\n",
       "      <th>2-3 Projects</th>\n",
       "      <th>4 Projects</th>\n",
       "      <th>5 Projects</th>\n",
       "      <th>6 Projects</th>\n",
       "      <th>7 Projects</th>\n",
       "    </tr>\n",
       "    <tr>\n",
       "      <th>satisfaction_level_binned</th>\n",
       "      <th></th>\n",
       "      <th></th>\n",
       "      <th></th>\n",
       "      <th></th>\n",
       "      <th></th>\n",
       "    </tr>\n",
       "  </thead>\n",
       "  <tbody>\n",
       "    <tr>\n",
       "      <th>Very High</th>\n",
       "      <td>0.221636</td>\n",
       "      <td>0.342039</td>\n",
       "      <td>0.361463</td>\n",
       "      <td>0.070698</td>\n",
       "      <td>0.000000</td>\n",
       "    </tr>\n",
       "    <tr>\n",
       "      <th>High</th>\n",
       "      <td>0.261679</td>\n",
       "      <td>0.356701</td>\n",
       "      <td>0.333937</td>\n",
       "      <td>0.086882</td>\n",
       "      <td>0.003906</td>\n",
       "    </tr>\n",
       "    <tr>\n",
       "      <th>Neutral</th>\n",
       "      <td>0.327022</td>\n",
       "      <td>0.217640</td>\n",
       "      <td>0.161898</td>\n",
       "      <td>0.082624</td>\n",
       "      <td>0.015625</td>\n",
       "    </tr>\n",
       "    <tr>\n",
       "      <th>Low</th>\n",
       "      <td>0.170262</td>\n",
       "      <td>0.047423</td>\n",
       "      <td>0.067367</td>\n",
       "      <td>0.124361</td>\n",
       "      <td>0.039062</td>\n",
       "    </tr>\n",
       "    <tr>\n",
       "      <th>Very Low</th>\n",
       "      <td>0.019401</td>\n",
       "      <td>0.036197</td>\n",
       "      <td>0.075335</td>\n",
       "      <td>0.635434</td>\n",
       "      <td>0.941406</td>\n",
       "    </tr>\n",
       "  </tbody>\n",
       "</table>\n",
       "</div>"
      ],
      "text/plain": [
       "number_project_binned      2-3 Projects  4 Projects  5 Projects  6 Projects  \\\n",
       "satisfaction_level_binned                                                     \n",
       "Very High                      0.221636    0.342039    0.361463    0.070698   \n",
       "High                           0.261679    0.356701    0.333937    0.086882   \n",
       "Neutral                        0.327022    0.217640    0.161898    0.082624   \n",
       "Low                            0.170262    0.047423    0.067367    0.124361   \n",
       "Very Low                       0.019401    0.036197    0.075335    0.635434   \n",
       "\n",
       "number_project_binned      7 Projects  \n",
       "satisfaction_level_binned              \n",
       "Very High                    0.000000  \n",
       "High                         0.003906  \n",
       "Neutral                      0.015625  \n",
       "Low                          0.039062  \n",
       "Very Low                     0.941406  "
      ]
     },
     "execution_count": 43,
     "metadata": {},
     "output_type": "execute_result"
    }
   ],
   "source": [
    "# checking out percentage of people in each project number group picked which satisfaction level\n",
    "contingency_table4 = pd.crosstab(df['satisfaction_level_binned'],df['number_project_binned'],normalize='columns').reindex([\n",
    "    'Very High', 'High', 'Neutral', 'Low', 'Very Low' ])[[\n",
    "    '2-3 Projects', '4 Projects', '5 Projects', '6 Projects', '7 Projects']]\n",
    "\n",
    "contingency_table4"
   ]
  },
  {
   "cell_type": "code",
   "execution_count": 44,
   "metadata": {},
   "outputs": [
    {
     "data": {
      "text/plain": [
       "(array([0.5, 1.5, 2.5, 3.5, 4.5]),\n",
       " [Text(0, 0.5, 'Very High'),\n",
       "  Text(0, 1.5, 'High'),\n",
       "  Text(0, 2.5, 'Neutral'),\n",
       "  Text(0, 3.5, 'Low'),\n",
       "  Text(0, 4.5, 'Very Low')])"
      ]
     },
     "execution_count": 44,
     "metadata": {},
     "output_type": "execute_result"
    },
    {
     "data": {
      "image/png": "[encoded data removed]",
      "text/plain": [
       "<Figure size 640x480 with 2 Axes>"
      ]
     },
     "metadata": {},
     "output_type": "display_data"
    }
   ],
   "source": [
    "fig,ax = plt.subplots()\n",
    "sns.heatmap(contingency_table4, annot=True)\n",
    "ax.set_title('Percentage of people in each number-of-project-bin with their reported satisfaction level')\n",
    "plt.xlabel('Number of Projects')\n",
    "plt.ylabel('Satisfaction Level')\n",
    "plt.yticks(rotation=0)"
   ]
  },
  {
   "cell_type": "markdown",
   "metadata": {},
   "source": [
    "What we can see is that 94.14% percent of people handling 7 projects reported Very Low (0-2 out of 10) satisfaction level, while the least project like 2-3,4,5 shows higher ~20-35% spread among Neutral, High, and Very High (4-10 out of 10 combined) satisfaction level. 63.5% of people handling 6 projects reported Very Low satisfaction level.\n",
    "\n",
    "So from this heatmap we can see that the more projects, the worse the satisfaction level gets. The sweet spot seems to be 4-5 projects, where people reported more Very High and High satisfaction levels and less of Very Low and Low satisfaction level. At 7 projects, the percentage of people reporting higher-than-Very-Low satisfaction level is less than 10%.\n",
    "\n",
    "I can advise a simple policy where an employees are not allowed to handle more than 5 projects at one time. If it does happen, their supervisor can get fines for not managing to handle projects accordingly. They should then have a consulting session with their supervisor and HR to talk about why the projects were not handled accordingly to the point of overworking employees, and how to best solve it."
   ]
  },
  {
   "cell_type": "markdown",
   "metadata": {},
   "source": [
    "#### Average Monthly Working Hours on Satisfaction Level\n",
    "\n",
    "To see if the average monthly working hours have a relationship with satisfaction level."
   ]
  },
  {
   "cell_type": "markdown",
   "metadata": {},
   "source": [
    " ##### H0 : There is no relationship between Satisfaction Level and Average Monthly Working Hours\n",
    "\n",
    "H1 : There is a relationship between Satisfaction Level and Average Monthly Working Hours"
   ]
  },
  {
   "cell_type": "code",
   "execution_count": 45,
   "metadata": {},
   "outputs": [
    {
     "data": {
      "text/plain": [
       "average_monthly_hours_binned\n",
       "A Bit Low/Right    4455\n",
       "High               4146\n",
       "A Bit High         3340\n",
       "Low                1601\n",
       "Very High          1457\n",
       "Name: count, dtype: int64"
      ]
     },
     "execution_count": 45,
     "metadata": {},
     "output_type": "execute_result"
    }
   ],
   "source": [
    "df['average_monthly_hours_binned'].value_counts()"
   ]
  },
  {
   "cell_type": "code",
   "execution_count": 46,
   "metadata": {},
   "outputs": [
    {
     "data": {
      "text/html": [
       "<div>\n",
       "<style scoped>\n",
       "    .dataframe tbody tr th:only-of-type {\n",
       "        vertical-align: middle;\n",
       "    }\n",
       "\n",
       "    .dataframe tbody tr th {\n",
       "        vertical-align: top;\n",
       "    }\n",
       "\n",
       "    .dataframe thead th {\n",
       "        text-align: right;\n",
       "    }\n",
       "</style>\n",
       "<table border=\"1\" class=\"dataframe\">\n",
       "  <thead>\n",
       "    <tr style=\"text-align: right;\">\n",
       "      <th>average_monthly_hours_binned</th>\n",
       "      <th>Low</th>\n",
       "      <th>A Bit Low/Right</th>\n",
       "      <th>A Bit High</th>\n",
       "      <th>High</th>\n",
       "      <th>Very High</th>\n",
       "    </tr>\n",
       "    <tr>\n",
       "      <th>satisfaction_level_binned</th>\n",
       "      <th></th>\n",
       "      <th></th>\n",
       "      <th></th>\n",
       "      <th></th>\n",
       "      <th></th>\n",
       "    </tr>\n",
       "  </thead>\n",
       "  <tbody>\n",
       "    <tr>\n",
       "      <th>Very High</th>\n",
       "      <td>233</td>\n",
       "      <td>1022</td>\n",
       "      <td>1059</td>\n",
       "      <td>1434</td>\n",
       "      <td>254</td>\n",
       "    </tr>\n",
       "    <tr>\n",
       "      <th>High</th>\n",
       "      <td>304</td>\n",
       "      <td>1182</td>\n",
       "      <td>1113</td>\n",
       "      <td>1389</td>\n",
       "      <td>280</td>\n",
       "    </tr>\n",
       "    <tr>\n",
       "      <th>Neutral</th>\n",
       "      <td>569</td>\n",
       "      <td>1355</td>\n",
       "      <td>779</td>\n",
       "      <td>709</td>\n",
       "      <td>193</td>\n",
       "    </tr>\n",
       "    <tr>\n",
       "      <th>Low</th>\n",
       "      <td>445</td>\n",
       "      <td>742</td>\n",
       "      <td>218</td>\n",
       "      <td>150</td>\n",
       "      <td>91</td>\n",
       "    </tr>\n",
       "    <tr>\n",
       "      <th>Very Low</th>\n",
       "      <td>50</td>\n",
       "      <td>154</td>\n",
       "      <td>171</td>\n",
       "      <td>464</td>\n",
       "      <td>639</td>\n",
       "    </tr>\n",
       "  </tbody>\n",
       "</table>\n",
       "</div>"
      ],
      "text/plain": [
       "average_monthly_hours_binned  Low  A Bit Low/Right  A Bit High  High  \\\n",
       "satisfaction_level_binned                                              \n",
       "Very High                     233             1022        1059  1434   \n",
       "High                          304             1182        1113  1389   \n",
       "Neutral                       569             1355         779   709   \n",
       "Low                           445              742         218   150   \n",
       "Very Low                       50              154         171   464   \n",
       "\n",
       "average_monthly_hours_binned  Very High  \n",
       "satisfaction_level_binned                \n",
       "Very High                           254  \n",
       "High                                280  \n",
       "Neutral                             193  \n",
       "Low                                  91  \n",
       "Very Low                            639  "
      ]
     },
     "execution_count": 46,
     "metadata": {},
     "output_type": "execute_result"
    }
   ],
   "source": [
    "# contingency table:\n",
    "\n",
    "contingency_table5 = pd.crosstab(df['satisfaction_level_binned'],df['average_monthly_hours_binned']).reindex([\n",
    "    'Very High', 'High', 'Neutral', 'Low', 'Very Low' ])[[\n",
    "    'Low', 'A Bit Low/Right', 'A Bit High', 'High', 'Very High']]\n",
    "\n",
    "contingency_table5"
   ]
  },
  {
   "cell_type": "code",
   "execution_count": 47,
   "metadata": {},
   "outputs": [
    {
     "name": "stdout",
     "output_type": "stream",
     "text": [
      "P-value: 0.0\n"
     ]
    }
   ],
   "source": [
    "# chi squared test:\n",
    "\n",
    "res = stats.chi2_contingency(contingency_table5)\n",
    "print(\"P-value:\",res.pvalue)"
   ]
  },
  {
   "cell_type": "markdown",
   "metadata": {},
   "source": [
    "##### P-value returns 0.0, which is less than the critical value of 0.05 within 95% confidence level. Therefore, H1 cannot be rejected, there is a relationship between Satisfaction Level and Average Monthly Working Hours.\n",
    "\n",
    "Let's see it with a heatmap."
   ]
  },
  {
   "cell_type": "code",
   "execution_count": 48,
   "metadata": {},
   "outputs": [
    {
     "data": {
      "text/html": [
       "<div>\n",
       "<style scoped>\n",
       "    .dataframe tbody tr th:only-of-type {\n",
       "        vertical-align: middle;\n",
       "    }\n",
       "\n",
       "    .dataframe tbody tr th {\n",
       "        vertical-align: top;\n",
       "    }\n",
       "\n",
       "    .dataframe thead th {\n",
       "        text-align: right;\n",
       "    }\n",
       "</style>\n",
       "<table border=\"1\" class=\"dataframe\">\n",
       "  <thead>\n",
       "    <tr style=\"text-align: right;\">\n",
       "      <th>average_monthly_hours_binned</th>\n",
       "      <th>Low</th>\n",
       "      <th>A Bit Low/Right</th>\n",
       "      <th>A Bit High</th>\n",
       "      <th>High</th>\n",
       "      <th>Very High</th>\n",
       "    </tr>\n",
       "    <tr>\n",
       "      <th>satisfaction_level_binned</th>\n",
       "      <th></th>\n",
       "      <th></th>\n",
       "      <th></th>\n",
       "      <th></th>\n",
       "      <th></th>\n",
       "    </tr>\n",
       "  </thead>\n",
       "  <tbody>\n",
       "    <tr>\n",
       "      <th>Very High</th>\n",
       "      <td>0.145534</td>\n",
       "      <td>0.229405</td>\n",
       "      <td>0.317066</td>\n",
       "      <td>0.345876</td>\n",
       "      <td>0.174331</td>\n",
       "    </tr>\n",
       "    <tr>\n",
       "      <th>High</th>\n",
       "      <td>0.189881</td>\n",
       "      <td>0.265320</td>\n",
       "      <td>0.333234</td>\n",
       "      <td>0.335022</td>\n",
       "      <td>0.192176</td>\n",
       "    </tr>\n",
       "    <tr>\n",
       "      <th>Neutral</th>\n",
       "      <td>0.355403</td>\n",
       "      <td>0.304153</td>\n",
       "      <td>0.233234</td>\n",
       "      <td>0.171008</td>\n",
       "      <td>0.132464</td>\n",
       "    </tr>\n",
       "    <tr>\n",
       "      <th>Low</th>\n",
       "      <td>0.277951</td>\n",
       "      <td>0.166554</td>\n",
       "      <td>0.065269</td>\n",
       "      <td>0.036179</td>\n",
       "      <td>0.062457</td>\n",
       "    </tr>\n",
       "    <tr>\n",
       "      <th>Very Low</th>\n",
       "      <td>0.031230</td>\n",
       "      <td>0.034568</td>\n",
       "      <td>0.051198</td>\n",
       "      <td>0.111915</td>\n",
       "      <td>0.438572</td>\n",
       "    </tr>\n",
       "  </tbody>\n",
       "</table>\n",
       "</div>"
      ],
      "text/plain": [
       "average_monthly_hours_binned       Low  A Bit Low/Right  A Bit High      High  \\\n",
       "satisfaction_level_binned                                                       \n",
       "Very High                     0.145534         0.229405    0.317066  0.345876   \n",
       "High                          0.189881         0.265320    0.333234  0.335022   \n",
       "Neutral                       0.355403         0.304153    0.233234  0.171008   \n",
       "Low                           0.277951         0.166554    0.065269  0.036179   \n",
       "Very Low                      0.031230         0.034568    0.051198  0.111915   \n",
       "\n",
       "average_monthly_hours_binned  Very High  \n",
       "satisfaction_level_binned                \n",
       "Very High                      0.174331  \n",
       "High                           0.192176  \n",
       "Neutral                        0.132464  \n",
       "Low                            0.062457  \n",
       "Very Low                       0.438572  "
      ]
     },
     "execution_count": 48,
     "metadata": {},
     "output_type": "execute_result"
    }
   ],
   "source": [
    "# contingency table to see how many percentage of each group reported which satisfaction level\n",
    "\n",
    "contingency_table6 = pd.crosstab(df['satisfaction_level_binned'],df['average_monthly_hours_binned'],normalize='columns').reindex([\n",
    "    'Very High', 'High', 'Neutral', 'Low', 'Very Low' ])[[\n",
    "    'Low', 'A Bit Low/Right', 'A Bit High', 'High', 'Very High']]\n",
    "\n",
    "contingency_table6"
   ]
  },
  {
   "cell_type": "code",
   "execution_count": 49,
   "metadata": {},
   "outputs": [
    {
     "data": {
      "text/plain": [
       "(array([0.5, 1.5, 2.5, 3.5, 4.5]),\n",
       " [Text(0.5, 0, 'Low'),\n",
       "  Text(1.5, 0, 'A Bit Low/Right'),\n",
       "  Text(2.5, 0, 'A Bit High'),\n",
       "  Text(3.5, 0, 'High'),\n",
       "  Text(4.5, 0, 'Very High')])"
      ]
     },
     "execution_count": 49,
     "metadata": {},
     "output_type": "execute_result"
    },
    {
     "data": {
      "image/png": "[encoded data removed]",
      "text/plain": [
       "<Figure size 640x480 with 2 Axes>"
      ]
     },
     "metadata": {},
     "output_type": "display_data"
    }
   ],
   "source": [
    "fig,ax = plt.subplots()\n",
    "sns.heatmap(contingency_table6, annot=True)\n",
    "ax.set_title('Percentage of people grouped by average monthly working hours with their reported satisfaction level')\n",
    "plt.xlabel('Average Monthly Working Hours')\n",
    "plt.ylabel('Satisfaction Level')\n",
    "plt.yticks(rotation=0)\n",
    "plt.xticks(rotation=0)"
   ]
  },
  {
   "cell_type": "markdown",
   "metadata": {},
   "source": [
    "Similar with previous heatmap, it appears that 43.86% people with Very High (267.2 - 310 AVG monthly working hours) reported Very Low satisfaction level. The higher the average monthly working hours, the less satisfied employees are.\n",
    "\n",
    "Though it seems there's some kind of threshold. See that people with Low and A Bit Low AVG Monthly Working Hours (96 - 181.6 hours combined) doesn't really report High and Very High satisfaction level--they mostly report Neutral. While employees with A Big High and High AVG Monthly Working Hours (181 - 267.2 hours combined) reported more High and Very High satisfaction levels compared to employees with less AVG Monthly Working hours.\n",
    "\n",
    "The theory that people likes to be engaged and hates to be bored seems to be proven here. There may not be enough engagement for people with less AVG Monthly Working Hours. **But!** give too much work and the satisfaction level will plummet.\n",
    "\n",
    "We can advise a policy that just bans too much overtime work. So, we can ban people from working more than 267.2 hours each month, which is around 4 hours of overwork each working day. If people work more than that hour in a month, they'll get either fines or get a consulting session with their superior and/or HR to talk about their time management and workload. The fine should be big. This can be measured by the clock-in clock-out time difference."
   ]
  },
  {
   "cell_type": "markdown",
   "metadata": {},
   "source": [
    "#### Time Spent in Company on Satisfaction Level\n",
    "\n",
    "To see if how long employees have been in the company have a relationship with satisfaction level."
   ]
  },
  {
   "cell_type": "markdown",
   "metadata": {},
   "source": [
    " ##### H0 : There is no relationship between Satisfaction Level and Time Spent in Company\n",
    "\n",
    "H1 : There is a relationship between Satisfaction Level and Time Spent in Company"
   ]
  },
  {
   "cell_type": "code",
   "execution_count": 50,
   "metadata": {},
   "outputs": [
    {
     "data": {
      "text/html": [
       "<div>\n",
       "<style scoped>\n",
       "    .dataframe tbody tr th:only-of-type {\n",
       "        vertical-align: middle;\n",
       "    }\n",
       "\n",
       "    .dataframe tbody tr th {\n",
       "        vertical-align: top;\n",
       "    }\n",
       "\n",
       "    .dataframe thead th {\n",
       "        text-align: right;\n",
       "    }\n",
       "</style>\n",
       "<table border=\"1\" class=\"dataframe\">\n",
       "  <thead>\n",
       "    <tr style=\"text-align: right;\">\n",
       "      <th>time_spend_company</th>\n",
       "      <th>2.0</th>\n",
       "      <th>3.0</th>\n",
       "      <th>4.0</th>\n",
       "      <th>5.0</th>\n",
       "      <th>6.0</th>\n",
       "      <th>7.0</th>\n",
       "      <th>8.0</th>\n",
       "      <th>10.0</th>\n",
       "    </tr>\n",
       "    <tr>\n",
       "      <th>satisfaction_level_binned</th>\n",
       "      <th></th>\n",
       "      <th></th>\n",
       "      <th></th>\n",
       "      <th></th>\n",
       "      <th></th>\n",
       "      <th></th>\n",
       "      <th></th>\n",
       "      <th></th>\n",
       "    </tr>\n",
       "  </thead>\n",
       "  <tbody>\n",
       "    <tr>\n",
       "      <th>Very High</th>\n",
       "      <td>1041</td>\n",
       "      <td>1566</td>\n",
       "      <td>487</td>\n",
       "      <td>526</td>\n",
       "      <td>214</td>\n",
       "      <td>62</td>\n",
       "      <td>48</td>\n",
       "      <td>58</td>\n",
       "    </tr>\n",
       "    <tr>\n",
       "      <th>High</th>\n",
       "      <td>1144</td>\n",
       "      <td>1787</td>\n",
       "      <td>571</td>\n",
       "      <td>402</td>\n",
       "      <td>198</td>\n",
       "      <td>44</td>\n",
       "      <td>56</td>\n",
       "      <td>66</td>\n",
       "    </tr>\n",
       "    <tr>\n",
       "      <th>Neutral</th>\n",
       "      <td>867</td>\n",
       "      <td>1984</td>\n",
       "      <td>377</td>\n",
       "      <td>119</td>\n",
       "      <td>104</td>\n",
       "      <td>50</td>\n",
       "      <td>40</td>\n",
       "      <td>64</td>\n",
       "    </tr>\n",
       "    <tr>\n",
       "      <th>Low</th>\n",
       "      <td>148</td>\n",
       "      <td>991</td>\n",
       "      <td>180</td>\n",
       "      <td>179</td>\n",
       "      <td>100</td>\n",
       "      <td>16</td>\n",
       "      <td>12</td>\n",
       "      <td>20</td>\n",
       "    </tr>\n",
       "    <tr>\n",
       "      <th>Very Low</th>\n",
       "      <td>44</td>\n",
       "      <td>115</td>\n",
       "      <td>942</td>\n",
       "      <td>247</td>\n",
       "      <td>102</td>\n",
       "      <td>16</td>\n",
       "      <td>6</td>\n",
       "      <td>6</td>\n",
       "    </tr>\n",
       "  </tbody>\n",
       "</table>\n",
       "</div>"
      ],
      "text/plain": [
       "time_spend_company         2.0   3.0   4.0   5.0   6.0   7.0   8.0   10.0\n",
       "satisfaction_level_binned                                                \n",
       "Very High                  1041  1566   487   526   214    62    48    58\n",
       "High                       1144  1787   571   402   198    44    56    66\n",
       "Neutral                     867  1984   377   119   104    50    40    64\n",
       "Low                         148   991   180   179   100    16    12    20\n",
       "Very Low                     44   115   942   247   102    16     6     6"
      ]
     },
     "execution_count": 50,
     "metadata": {},
     "output_type": "execute_result"
    }
   ],
   "source": [
    "# contingency table:\n",
    "\n",
    "contingency_table7 = pd.crosstab(df['satisfaction_level_binned'],df['time_spend_company']).reindex([\n",
    "    'Very High', 'High', 'Neutral', 'Low', 'Very Low' ])[[\n",
    "    2, 3, 4, 5, 6, 7, 8, 10]]\n",
    "\n",
    "contingency_table7"
   ]
  },
  {
   "cell_type": "code",
   "execution_count": 51,
   "metadata": {},
   "outputs": [
    {
     "name": "stdout",
     "output_type": "stream",
     "text": [
      "P-value: 0.0\n"
     ]
    }
   ],
   "source": [
    "# chi squared test:\n",
    "\n",
    "res = stats.chi2_contingency(contingency_table7)\n",
    "print(\"P-value:\",res.pvalue)"
   ]
  },
  {
   "cell_type": "markdown",
   "metadata": {},
   "source": [
    "##### P-value returns 0.0, which is less than the critical value of 0.05 within 95% confidence level. Therefore, H1 cannot be rejected, there is a relationship between Satisfaction Level and Time Spent in Company.\n",
    "\n",
    "Let's see it with a heatmap."
   ]
  },
  {
   "cell_type": "code",
   "execution_count": 52,
   "metadata": {},
   "outputs": [
    {
     "data": {
      "text/html": [
       "<div>\n",
       "<style scoped>\n",
       "    .dataframe tbody tr th:only-of-type {\n",
       "        vertical-align: middle;\n",
       "    }\n",
       "\n",
       "    .dataframe tbody tr th {\n",
       "        vertical-align: top;\n",
       "    }\n",
       "\n",
       "    .dataframe thead th {\n",
       "        text-align: right;\n",
       "    }\n",
       "</style>\n",
       "<table border=\"1\" class=\"dataframe\">\n",
       "  <thead>\n",
       "    <tr style=\"text-align: right;\">\n",
       "      <th>time_spend_company</th>\n",
       "      <th>2.0</th>\n",
       "      <th>3.0</th>\n",
       "      <th>4.0</th>\n",
       "      <th>5.0</th>\n",
       "      <th>6.0</th>\n",
       "      <th>7.0</th>\n",
       "      <th>8.0</th>\n",
       "      <th>10.0</th>\n",
       "    </tr>\n",
       "    <tr>\n",
       "      <th>satisfaction_level_binned</th>\n",
       "      <th></th>\n",
       "      <th></th>\n",
       "      <th></th>\n",
       "      <th></th>\n",
       "      <th></th>\n",
       "      <th></th>\n",
       "      <th></th>\n",
       "      <th></th>\n",
       "    </tr>\n",
       "  </thead>\n",
       "  <tbody>\n",
       "    <tr>\n",
       "      <th>Very High</th>\n",
       "      <td>0.320900</td>\n",
       "      <td>0.243054</td>\n",
       "      <td>0.190458</td>\n",
       "      <td>0.357094</td>\n",
       "      <td>0.298050</td>\n",
       "      <td>0.329787</td>\n",
       "      <td>0.296296</td>\n",
       "      <td>0.271028</td>\n",
       "    </tr>\n",
       "    <tr>\n",
       "      <th>High</th>\n",
       "      <td>0.352651</td>\n",
       "      <td>0.277355</td>\n",
       "      <td>0.223309</td>\n",
       "      <td>0.272912</td>\n",
       "      <td>0.275766</td>\n",
       "      <td>0.234043</td>\n",
       "      <td>0.345679</td>\n",
       "      <td>0.308411</td>\n",
       "    </tr>\n",
       "    <tr>\n",
       "      <th>Neutral</th>\n",
       "      <td>0.267263</td>\n",
       "      <td>0.307931</td>\n",
       "      <td>0.147438</td>\n",
       "      <td>0.080788</td>\n",
       "      <td>0.144847</td>\n",
       "      <td>0.265957</td>\n",
       "      <td>0.246914</td>\n",
       "      <td>0.299065</td>\n",
       "    </tr>\n",
       "    <tr>\n",
       "      <th>Low</th>\n",
       "      <td>0.045623</td>\n",
       "      <td>0.153810</td>\n",
       "      <td>0.070395</td>\n",
       "      <td>0.121521</td>\n",
       "      <td>0.139276</td>\n",
       "      <td>0.085106</td>\n",
       "      <td>0.074074</td>\n",
       "      <td>0.093458</td>\n",
       "    </tr>\n",
       "    <tr>\n",
       "      <th>Very Low</th>\n",
       "      <td>0.013564</td>\n",
       "      <td>0.017849</td>\n",
       "      <td>0.368400</td>\n",
       "      <td>0.167685</td>\n",
       "      <td>0.142061</td>\n",
       "      <td>0.085106</td>\n",
       "      <td>0.037037</td>\n",
       "      <td>0.028037</td>\n",
       "    </tr>\n",
       "  </tbody>\n",
       "</table>\n",
       "</div>"
      ],
      "text/plain": [
       "time_spend_company             2.0       3.0       4.0       5.0       6.0   \\\n",
       "satisfaction_level_binned                                                     \n",
       "Very High                  0.320900  0.243054  0.190458  0.357094  0.298050   \n",
       "High                       0.352651  0.277355  0.223309  0.272912  0.275766   \n",
       "Neutral                    0.267263  0.307931  0.147438  0.080788  0.144847   \n",
       "Low                        0.045623  0.153810  0.070395  0.121521  0.139276   \n",
       "Very Low                   0.013564  0.017849  0.368400  0.167685  0.142061   \n",
       "\n",
       "time_spend_company             7.0       8.0       10.0  \n",
       "satisfaction_level_binned                                \n",
       "Very High                  0.329787  0.296296  0.271028  \n",
       "High                       0.234043  0.345679  0.308411  \n",
       "Neutral                    0.265957  0.246914  0.299065  \n",
       "Low                        0.085106  0.074074  0.093458  \n",
       "Very Low                   0.085106  0.037037  0.028037  "
      ]
     },
     "execution_count": 52,
     "metadata": {},
     "output_type": "execute_result"
    }
   ],
   "source": [
    "#contingency table for heatmap\n",
    "\n",
    "contingency_table8 = pd.crosstab(df['satisfaction_level_binned'],df['time_spend_company'],normalize='columns').reindex([\n",
    "    'Very High', 'High', 'Neutral', 'Low', 'Very Low' ])[[\n",
    "    2, 3, 4, 5, 6, 7, 8, 10]]\n",
    "\n",
    "contingency_table8"
   ]
  },
  {
   "cell_type": "code",
   "execution_count": 53,
   "metadata": {},
   "outputs": [
    {
     "data": {
      "text/plain": [
       "(array([0.5, 1.5, 2.5, 3.5, 4.5]),\n",
       " [Text(0, 0.5, 'Very High'),\n",
       "  Text(0, 1.5, 'High'),\n",
       "  Text(0, 2.5, 'Neutral'),\n",
       "  Text(0, 3.5, 'Low'),\n",
       "  Text(0, 4.5, 'Very Low')])"
      ]
     },
     "execution_count": 53,
     "metadata": {},
     "output_type": "execute_result"
    },
    {
     "data": {
      "image/png": "[encoded data removed]",
      "text/plain": [
       "<Figure size 640x480 with 2 Axes>"
      ]
     },
     "metadata": {},
     "output_type": "display_data"
    }
   ],
   "source": [
    "fig,ax = plt.subplots()\n",
    "sns.heatmap(contingency_table8, annot=True)\n",
    "ax.set_title('Percentage of people grouped by time working in company with their reported satisfaction level')\n",
    "plt.xlabel('Time spent in company')\n",
    "plt.ylabel('Satisfaction Level')\n",
    "plt.yticks(rotation=0)"
   ]
  },
  {
   "cell_type": "markdown",
   "metadata": {},
   "source": [
    "We can see the journey of satisfaction levels throughout the years employed that employees experienced. On year 2, they report mostly High and Very High satisfaction levels. On year 3 the most reported Satisfaction Level is Neutral. Then on year 4 the most reported Satisfaction Level is Very Low. It seems that's when people get bored and/or fed up with the work. Year 5 have comparably less population than Year 4 employees-- it's a hold-it-out-or-get-out situation, as year 5 and onwards have mostly reported Neutral to Very High satisfaction level.\n",
    "\n",
    "There's really no policy to be made for this regard, though. Celerium is already doing a pretty good job in this aspect. We only gained how it relates to Satisfaction Level."
   ]
  },
  {
   "cell_type": "markdown",
   "metadata": {},
   "source": [
    "#### Work Accident on Satisfaction Level\n",
    "\n",
    "To see if work accident have a relationship with satisfaction level."
   ]
  },
  {
   "cell_type": "markdown",
   "metadata": {},
   "source": [
    " ##### H0 : There is no relationship between Satisfaction Level and Work Accident\n",
    "\n",
    "H1 : There is a relationship between Satisfaction Level and Work Accident"
   ]
  },
  {
   "cell_type": "code",
   "execution_count": 54,
   "metadata": {},
   "outputs": [
    {
     "data": {
      "text/html": [
       "<div>\n",
       "<style scoped>\n",
       "    .dataframe tbody tr th:only-of-type {\n",
       "        vertical-align: middle;\n",
       "    }\n",
       "\n",
       "    .dataframe tbody tr th {\n",
       "        vertical-align: top;\n",
       "    }\n",
       "\n",
       "    .dataframe thead th {\n",
       "        text-align: right;\n",
       "    }\n",
       "</style>\n",
       "<table border=\"1\" class=\"dataframe\">\n",
       "  <thead>\n",
       "    <tr style=\"text-align: right;\">\n",
       "      <th>work_accident</th>\n",
       "      <th>0.0</th>\n",
       "      <th>1.0</th>\n",
       "    </tr>\n",
       "    <tr>\n",
       "      <th>satisfaction_level_binned</th>\n",
       "      <th></th>\n",
       "      <th></th>\n",
       "    </tr>\n",
       "  </thead>\n",
       "  <tbody>\n",
       "    <tr>\n",
       "      <th>Very High</th>\n",
       "      <td>3378</td>\n",
       "      <td>624</td>\n",
       "    </tr>\n",
       "    <tr>\n",
       "      <th>High</th>\n",
       "      <td>3556</td>\n",
       "      <td>712</td>\n",
       "    </tr>\n",
       "    <tr>\n",
       "      <th>Neutral</th>\n",
       "      <td>3089</td>\n",
       "      <td>516</td>\n",
       "    </tr>\n",
       "    <tr>\n",
       "      <th>Low</th>\n",
       "      <td>1474</td>\n",
       "      <td>172</td>\n",
       "    </tr>\n",
       "    <tr>\n",
       "      <th>Very Low</th>\n",
       "      <td>1333</td>\n",
       "      <td>145</td>\n",
       "    </tr>\n",
       "  </tbody>\n",
       "</table>\n",
       "</div>"
      ],
      "text/plain": [
       "work_accident               0.0  1.0\n",
       "satisfaction_level_binned           \n",
       "Very High                  3378  624\n",
       "High                       3556  712\n",
       "Neutral                    3089  516\n",
       "Low                        1474  172\n",
       "Very Low                   1333  145"
      ]
     },
     "execution_count": 54,
     "metadata": {},
     "output_type": "execute_result"
    }
   ],
   "source": [
    "# contingency table:\n",
    "\n",
    "contingency_table9 = pd.crosstab(df['satisfaction_level_binned'],df['work_accident']).reindex([\n",
    "    'Very High', 'High', 'Neutral', 'Low', 'Very Low' ])[[\n",
    "    0, 1]]\n",
    "\n",
    "contingency_table9"
   ]
  },
  {
   "cell_type": "code",
   "execution_count": 55,
   "metadata": {},
   "outputs": [
    {
     "name": "stdout",
     "output_type": "stream",
     "text": [
      "P-value: 4.749239509187844e-14\n"
     ]
    }
   ],
   "source": [
    "# chi squared test:\n",
    "\n",
    "res = stats.chi2_contingency(contingency_table9)\n",
    "print(\"P-value:\",res.pvalue)"
   ]
  },
  {
   "cell_type": "markdown",
   "metadata": {},
   "source": [
    "##### P-value returns 4.74 * 10^-14 , which is less than the critical value of 0.05 within 95% confidence level. Therefore, H1 cannot be rejected, there is a relationship between Work Accident and Satisfaction Level.\n",
    "\n",
    "Let's see with a heatmap"
   ]
  },
  {
   "cell_type": "code",
   "execution_count": 56,
   "metadata": {},
   "outputs": [
    {
     "data": {
      "text/html": [
       "<div>\n",
       "<style scoped>\n",
       "    .dataframe tbody tr th:only-of-type {\n",
       "        vertical-align: middle;\n",
       "    }\n",
       "\n",
       "    .dataframe tbody tr th {\n",
       "        vertical-align: top;\n",
       "    }\n",
       "\n",
       "    .dataframe thead th {\n",
       "        text-align: right;\n",
       "    }\n",
       "</style>\n",
       "<table border=\"1\" class=\"dataframe\">\n",
       "  <thead>\n",
       "    <tr style=\"text-align: right;\">\n",
       "      <th>work_accident</th>\n",
       "      <th>0.0</th>\n",
       "      <th>1.0</th>\n",
       "    </tr>\n",
       "    <tr>\n",
       "      <th>satisfaction_level_binned</th>\n",
       "      <th></th>\n",
       "      <th></th>\n",
       "    </tr>\n",
       "  </thead>\n",
       "  <tbody>\n",
       "    <tr>\n",
       "      <th>Very High</th>\n",
       "      <td>0.263289</td>\n",
       "      <td>0.287690</td>\n",
       "    </tr>\n",
       "    <tr>\n",
       "      <th>High</th>\n",
       "      <td>0.277163</td>\n",
       "      <td>0.328262</td>\n",
       "    </tr>\n",
       "    <tr>\n",
       "      <th>Neutral</th>\n",
       "      <td>0.240764</td>\n",
       "      <td>0.237898</td>\n",
       "    </tr>\n",
       "    <tr>\n",
       "      <th>Low</th>\n",
       "      <td>0.114887</td>\n",
       "      <td>0.079299</td>\n",
       "    </tr>\n",
       "    <tr>\n",
       "      <th>Very Low</th>\n",
       "      <td>0.103897</td>\n",
       "      <td>0.066851</td>\n",
       "    </tr>\n",
       "  </tbody>\n",
       "</table>\n",
       "</div>"
      ],
      "text/plain": [
       "work_accident                   0.0       1.0\n",
       "satisfaction_level_binned                    \n",
       "Very High                  0.263289  0.287690\n",
       "High                       0.277163  0.328262\n",
       "Neutral                    0.240764  0.237898\n",
       "Low                        0.114887  0.079299\n",
       "Very Low                   0.103897  0.066851"
      ]
     },
     "execution_count": 56,
     "metadata": {},
     "output_type": "execute_result"
    }
   ],
   "source": [
    "\n",
    "#contingency table for heatmap\n",
    "contingency_table10 = pd.crosstab(df['satisfaction_level_binned'],df['work_accident'],normalize='columns').reindex([\n",
    "    'Very High', 'High', 'Neutral', 'Low', 'Very Low' ])[[\n",
    "    0, 1]]\n",
    "\n",
    "contingency_table10"
   ]
  },
  {
   "cell_type": "code",
   "execution_count": 57,
   "metadata": {},
   "outputs": [
    {
     "data": {
      "text/plain": [
       "(array([0.5, 1.5, 2.5, 3.5, 4.5]),\n",
       " [Text(0, 0.5, 'Very High'),\n",
       "  Text(0, 1.5, 'High'),\n",
       "  Text(0, 2.5, 'Neutral'),\n",
       "  Text(0, 3.5, 'Low'),\n",
       "  Text(0, 4.5, 'Very Low')])"
      ]
     },
     "execution_count": 57,
     "metadata": {},
     "output_type": "execute_result"
    },
    {
     "data": {
      "image/png": "[encoded data removed]",
      "text/plain": [
       "<Figure size 640x480 with 2 Axes>"
      ]
     },
     "metadata": {},
     "output_type": "display_data"
    }
   ],
   "source": [
    "fig,ax = plt.subplots()\n",
    "sns.heatmap(contingency_table10, annot=True)\n",
    "ax.set_title('Percentage of people grouped by work accident exp with their reported satisfaction level')\n",
    "plt.xlabel('Work accident, 1: Experienced it, 0: Never experienced it')\n",
    "plt.ylabel('Satisfaction Level')\n",
    "plt.yticks(rotation=0)"
   ]
  },
  {
   "cell_type": "markdown",
   "metadata": {},
   "source": [
    "The Chi Square test returned that work accident is affecting, but the data doesn't really say so. We can see that people who never experienced work accidents does not generally higher Satisfaction Level score than people who experienced it.\n",
    "\n",
    "We're ruling out work accident as a factor of work satisfaction in Celerium.\n",
    "\n",
    "This means that people who were in work accidents are still satisfied nonetheless in Celerium."
   ]
  },
  {
   "cell_type": "markdown",
   "metadata": {},
   "source": [
    "#### Promotion Last 5 Years on Satisfaction Level\n",
    "\n",
    "To see if promotion have a relationship with satisfaction level."
   ]
  },
  {
   "cell_type": "markdown",
   "metadata": {},
   "source": [
    " ##### H0 : There is no relationship between Satisfaction Level and Promotion Last 5 Years\n",
    "\n",
    "H1 : There is a relationship between Satisfaction Level and Promotion Last 5 Years"
   ]
  },
  {
   "cell_type": "code",
   "execution_count": 58,
   "metadata": {},
   "outputs": [
    {
     "data": {
      "text/html": [
       "<div>\n",
       "<style scoped>\n",
       "    .dataframe tbody tr th:only-of-type {\n",
       "        vertical-align: middle;\n",
       "    }\n",
       "\n",
       "    .dataframe tbody tr th {\n",
       "        vertical-align: top;\n",
       "    }\n",
       "\n",
       "    .dataframe thead th {\n",
       "        text-align: right;\n",
       "    }\n",
       "</style>\n",
       "<table border=\"1\" class=\"dataframe\">\n",
       "  <thead>\n",
       "    <tr style=\"text-align: right;\">\n",
       "      <th>promotion_last_5years</th>\n",
       "      <th>0.0</th>\n",
       "      <th>1.0</th>\n",
       "    </tr>\n",
       "    <tr>\n",
       "      <th>satisfaction_level_binned</th>\n",
       "      <th></th>\n",
       "      <th></th>\n",
       "    </tr>\n",
       "  </thead>\n",
       "  <tbody>\n",
       "    <tr>\n",
       "      <th>Very High</th>\n",
       "      <td>3911</td>\n",
       "      <td>91</td>\n",
       "    </tr>\n",
       "    <tr>\n",
       "      <th>High</th>\n",
       "      <td>4171</td>\n",
       "      <td>97</td>\n",
       "    </tr>\n",
       "    <tr>\n",
       "      <th>Neutral</th>\n",
       "      <td>3509</td>\n",
       "      <td>96</td>\n",
       "    </tr>\n",
       "    <tr>\n",
       "      <th>Low</th>\n",
       "      <td>1626</td>\n",
       "      <td>20</td>\n",
       "    </tr>\n",
       "    <tr>\n",
       "      <th>Very Low</th>\n",
       "      <td>1463</td>\n",
       "      <td>15</td>\n",
       "    </tr>\n",
       "  </tbody>\n",
       "</table>\n",
       "</div>"
      ],
      "text/plain": [
       "promotion_last_5years       0.0  1.0\n",
       "satisfaction_level_binned           \n",
       "Very High                  3911   91\n",
       "High                       4171   97\n",
       "Neutral                    3509   96\n",
       "Low                        1626   20\n",
       "Very Low                   1463   15"
      ]
     },
     "execution_count": 58,
     "metadata": {},
     "output_type": "execute_result"
    }
   ],
   "source": [
    "# contingency table:\n",
    "\n",
    "contingency_table11 = pd.crosstab(df['satisfaction_level_binned'],df['promotion_last_5years']).reindex([\n",
    "    'Very High', 'High', 'Neutral', 'Low', 'Very Low' ])[[\n",
    "    0, 1]]\n",
    "\n",
    "contingency_table11"
   ]
  },
  {
   "cell_type": "code",
   "execution_count": 59,
   "metadata": {},
   "outputs": [
    {
     "name": "stdout",
     "output_type": "stream",
     "text": [
      "P-value: 0.00029129676704170497\n"
     ]
    }
   ],
   "source": [
    "# chi squared test:\n",
    "\n",
    "res = stats.chi2_contingency(contingency_table11)\n",
    "print(\"P-value:\",res.pvalue)"
   ]
  },
  {
   "cell_type": "markdown",
   "metadata": {},
   "source": [
    "##### P-value returns 0.00029 , which is less than the critical value of 0.05 within 95% confidence level. Therefore, H1 cannot be rejected, there is a relationship between Promotion and Satisfaction Level.\n",
    "\n",
    "Let's see it in a heatmap."
   ]
  },
  {
   "cell_type": "code",
   "execution_count": 60,
   "metadata": {},
   "outputs": [
    {
     "data": {
      "text/html": [
       "<div>\n",
       "<style scoped>\n",
       "    .dataframe tbody tr th:only-of-type {\n",
       "        vertical-align: middle;\n",
       "    }\n",
       "\n",
       "    .dataframe tbody tr th {\n",
       "        vertical-align: top;\n",
       "    }\n",
       "\n",
       "    .dataframe thead th {\n",
       "        text-align: right;\n",
       "    }\n",
       "</style>\n",
       "<table border=\"1\" class=\"dataframe\">\n",
       "  <thead>\n",
       "    <tr style=\"text-align: right;\">\n",
       "      <th>promotion_last_5years</th>\n",
       "      <th>0.0</th>\n",
       "      <th>1.0</th>\n",
       "    </tr>\n",
       "    <tr>\n",
       "      <th>satisfaction_level_binned</th>\n",
       "      <th></th>\n",
       "      <th></th>\n",
       "    </tr>\n",
       "  </thead>\n",
       "  <tbody>\n",
       "    <tr>\n",
       "      <th>Very High</th>\n",
       "      <td>0.266417</td>\n",
       "      <td>0.285266</td>\n",
       "    </tr>\n",
       "    <tr>\n",
       "      <th>High</th>\n",
       "      <td>0.284128</td>\n",
       "      <td>0.304075</td>\n",
       "    </tr>\n",
       "    <tr>\n",
       "      <th>Neutral</th>\n",
       "      <td>0.239033</td>\n",
       "      <td>0.300940</td>\n",
       "    </tr>\n",
       "    <tr>\n",
       "      <th>Low</th>\n",
       "      <td>0.110763</td>\n",
       "      <td>0.062696</td>\n",
       "    </tr>\n",
       "    <tr>\n",
       "      <th>Very Low</th>\n",
       "      <td>0.099659</td>\n",
       "      <td>0.047022</td>\n",
       "    </tr>\n",
       "  </tbody>\n",
       "</table>\n",
       "</div>"
      ],
      "text/plain": [
       "promotion_last_5years           0.0       1.0\n",
       "satisfaction_level_binned                    \n",
       "Very High                  0.266417  0.285266\n",
       "High                       0.284128  0.304075\n",
       "Neutral                    0.239033  0.300940\n",
       "Low                        0.110763  0.062696\n",
       "Very Low                   0.099659  0.047022"
      ]
     },
     "execution_count": 60,
     "metadata": {},
     "output_type": "execute_result"
    }
   ],
   "source": [
    "# contingency table for heatmap:\n",
    "\n",
    "contingency_table12 = pd.crosstab(df['satisfaction_level_binned'],df['promotion_last_5years'],normalize='columns').reindex([\n",
    "    'Very High', 'High', 'Neutral', 'Low', 'Very Low' ])[[\n",
    "    0, 1]]\n",
    "\n",
    "contingency_table12"
   ]
  },
  {
   "cell_type": "code",
   "execution_count": 61,
   "metadata": {},
   "outputs": [
    {
     "data": {
      "text/plain": [
       "(array([0.5, 1.5, 2.5, 3.5, 4.5]),\n",
       " [Text(0, 0.5, 'Very High'),\n",
       "  Text(0, 1.5, 'High'),\n",
       "  Text(0, 2.5, 'Neutral'),\n",
       "  Text(0, 3.5, 'Low'),\n",
       "  Text(0, 4.5, 'Very Low')])"
      ]
     },
     "execution_count": 61,
     "metadata": {},
     "output_type": "execute_result"
    },
    {
     "data": {
      "image/png": "[encoded data removed]",
      "text/plain": [
       "<Figure size 640x480 with 2 Axes>"
      ]
     },
     "metadata": {},
     "output_type": "display_data"
    }
   ],
   "source": [
    "fig,ax = plt.subplots()\n",
    "sns.heatmap(contingency_table12, annot=True)\n",
    "ax.set_title('Percentage of people grouped by promotion in last 5 years with their reported satisfaction level')\n",
    "plt.xlabel('Promotion last 5 years, 1: Experienced it, 0: Never experienced it')\n",
    "plt.ylabel('Satisfaction Level')\n",
    "plt.yticks(rotation=0)"
   ]
  },
  {
   "cell_type": "markdown",
   "metadata": {},
   "source": [
    "Employees who experienced promotion in the last 5 years are showing more reports of higher Satisfaction Level than those not promoted in the last 5 years.\n",
    "\n",
    "I can advise my clients to promote more of their employee, or, in other words, do internal hiring for empty higher-up positions."
   ]
  },
  {
   "cell_type": "markdown",
   "metadata": {},
   "source": [
    "#### Department on Satisfaction Level\n",
    "\n",
    "To see if Department have a relationship with satisfaction level."
   ]
  },
  {
   "cell_type": "markdown",
   "metadata": {},
   "source": [
    " ##### H0 : There is no relationship between Satisfaction Level and Department\n",
    "\n",
    "H1 : There is a relationship between Satisfaction Level and Department"
   ]
  },
  {
   "cell_type": "code",
   "execution_count": 62,
   "metadata": {},
   "outputs": [
    {
     "data": {
      "text/html": [
       "<div>\n",
       "<style scoped>\n",
       "    .dataframe tbody tr th:only-of-type {\n",
       "        vertical-align: middle;\n",
       "    }\n",
       "\n",
       "    .dataframe tbody tr th {\n",
       "        vertical-align: top;\n",
       "    }\n",
       "\n",
       "    .dataframe thead th {\n",
       "        text-align: right;\n",
       "    }\n",
       "</style>\n",
       "<table border=\"1\" class=\"dataframe\">\n",
       "  <thead>\n",
       "    <tr style=\"text-align: right;\">\n",
       "      <th>dept</th>\n",
       "      <th>IT</th>\n",
       "      <th>RandD</th>\n",
       "      <th>accounting</th>\n",
       "      <th>hr</th>\n",
       "      <th>management</th>\n",
       "      <th>marketing</th>\n",
       "      <th>product_mng</th>\n",
       "      <th>sales</th>\n",
       "      <th>support</th>\n",
       "      <th>technical</th>\n",
       "    </tr>\n",
       "    <tr>\n",
       "      <th>satisfaction_level_binned</th>\n",
       "      <th></th>\n",
       "      <th></th>\n",
       "      <th></th>\n",
       "      <th></th>\n",
       "      <th></th>\n",
       "      <th></th>\n",
       "      <th></th>\n",
       "      <th></th>\n",
       "      <th></th>\n",
       "      <th></th>\n",
       "    </tr>\n",
       "  </thead>\n",
       "  <tbody>\n",
       "    <tr>\n",
       "      <th>Very High</th>\n",
       "      <td>333</td>\n",
       "      <td>219</td>\n",
       "      <td>189</td>\n",
       "      <td>185</td>\n",
       "      <td>144</td>\n",
       "      <td>230</td>\n",
       "      <td>252</td>\n",
       "      <td>1119</td>\n",
       "      <td>594</td>\n",
       "      <td>737</td>\n",
       "    </tr>\n",
       "    <tr>\n",
       "      <th>High</th>\n",
       "      <td>373</td>\n",
       "      <td>230</td>\n",
       "      <td>195</td>\n",
       "      <td>198</td>\n",
       "      <td>208</td>\n",
       "      <td>253</td>\n",
       "      <td>240</td>\n",
       "      <td>1163</td>\n",
       "      <td>652</td>\n",
       "      <td>756</td>\n",
       "    </tr>\n",
       "    <tr>\n",
       "      <th>Neutral</th>\n",
       "      <td>268</td>\n",
       "      <td>188</td>\n",
       "      <td>182</td>\n",
       "      <td>192</td>\n",
       "      <td>174</td>\n",
       "      <td>201</td>\n",
       "      <td>236</td>\n",
       "      <td>1003</td>\n",
       "      <td>527</td>\n",
       "      <td>634</td>\n",
       "    </tr>\n",
       "    <tr>\n",
       "      <th>Low</th>\n",
       "      <td>126</td>\n",
       "      <td>75</td>\n",
       "      <td>114</td>\n",
       "      <td>93</td>\n",
       "      <td>54</td>\n",
       "      <td>99</td>\n",
       "      <td>93</td>\n",
       "      <td>445</td>\n",
       "      <td>253</td>\n",
       "      <td>294</td>\n",
       "    </tr>\n",
       "    <tr>\n",
       "      <th>Very Low</th>\n",
       "      <td>127</td>\n",
       "      <td>75</td>\n",
       "      <td>87</td>\n",
       "      <td>71</td>\n",
       "      <td>50</td>\n",
       "      <td>75</td>\n",
       "      <td>81</td>\n",
       "      <td>410</td>\n",
       "      <td>203</td>\n",
       "      <td>299</td>\n",
       "    </tr>\n",
       "  </tbody>\n",
       "</table>\n",
       "</div>"
      ],
      "text/plain": [
       "dept                        IT  RandD  accounting   hr  management  marketing  \\\n",
       "satisfaction_level_binned                                                       \n",
       "Very High                  333    219         189  185         144        230   \n",
       "High                       373    230         195  198         208        253   \n",
       "Neutral                    268    188         182  192         174        201   \n",
       "Low                        126     75         114   93          54         99   \n",
       "Very Low                   127     75          87   71          50         75   \n",
       "\n",
       "dept                       product_mng  sales  support  technical  \n",
       "satisfaction_level_binned                                          \n",
       "Very High                          252   1119      594        737  \n",
       "High                               240   1163      652        756  \n",
       "Neutral                            236   1003      527        634  \n",
       "Low                                 93    445      253        294  \n",
       "Very Low                            81    410      203        299  "
      ]
     },
     "execution_count": 62,
     "metadata": {},
     "output_type": "execute_result"
    }
   ],
   "source": [
    "# contingency table:\n",
    "\n",
    "contingency_table13 = pd.crosstab(df['satisfaction_level_binned'],df['dept']).reindex([\n",
    "    'Very High', 'High', 'Neutral', 'Low', 'Very Low' ])\n",
    "contingency_table13"
   ]
  },
  {
   "cell_type": "code",
   "execution_count": 63,
   "metadata": {},
   "outputs": [
    {
     "name": "stdout",
     "output_type": "stream",
     "text": [
      "P-value: 0.010203870607955839\n"
     ]
    }
   ],
   "source": [
    "# chi squared test:\n",
    "\n",
    "res = stats.chi2_contingency(contingency_table13)\n",
    "print(\"P-value:\",res.pvalue)"
   ]
  },
  {
   "cell_type": "markdown",
   "metadata": {},
   "source": [
    "##### P-value returns 0.01 , which is less than the critical value of 0.05 within 95% confidence level. Therefore, H1 cannot be rejected, there is a relationship between Department and Satisfaction Level.\n",
    "\n",
    "We're going to see how it is with a heatmap."
   ]
  },
  {
   "cell_type": "code",
   "execution_count": 64,
   "metadata": {},
   "outputs": [
    {
     "data": {
      "text/html": [
       "<div>\n",
       "<style scoped>\n",
       "    .dataframe tbody tr th:only-of-type {\n",
       "        vertical-align: middle;\n",
       "    }\n",
       "\n",
       "    .dataframe tbody tr th {\n",
       "        vertical-align: top;\n",
       "    }\n",
       "\n",
       "    .dataframe thead th {\n",
       "        text-align: right;\n",
       "    }\n",
       "</style>\n",
       "<table border=\"1\" class=\"dataframe\">\n",
       "  <thead>\n",
       "    <tr style=\"text-align: right;\">\n",
       "      <th>dept</th>\n",
       "      <th>IT</th>\n",
       "      <th>RandD</th>\n",
       "      <th>accounting</th>\n",
       "      <th>hr</th>\n",
       "      <th>management</th>\n",
       "      <th>marketing</th>\n",
       "      <th>product_mng</th>\n",
       "      <th>sales</th>\n",
       "      <th>support</th>\n",
       "      <th>technical</th>\n",
       "    </tr>\n",
       "    <tr>\n",
       "      <th>satisfaction_level_binned</th>\n",
       "      <th></th>\n",
       "      <th></th>\n",
       "      <th></th>\n",
       "      <th></th>\n",
       "      <th></th>\n",
       "      <th></th>\n",
       "      <th></th>\n",
       "      <th></th>\n",
       "      <th></th>\n",
       "      <th></th>\n",
       "    </tr>\n",
       "  </thead>\n",
       "  <tbody>\n",
       "    <tr>\n",
       "      <th>Very High</th>\n",
       "      <td>0.271394</td>\n",
       "      <td>0.278272</td>\n",
       "      <td>0.246415</td>\n",
       "      <td>0.250338</td>\n",
       "      <td>0.228571</td>\n",
       "      <td>0.268065</td>\n",
       "      <td>0.279379</td>\n",
       "      <td>0.270290</td>\n",
       "      <td>0.266487</td>\n",
       "      <td>0.270956</td>\n",
       "    </tr>\n",
       "    <tr>\n",
       "      <th>High</th>\n",
       "      <td>0.303993</td>\n",
       "      <td>0.292249</td>\n",
       "      <td>0.254237</td>\n",
       "      <td>0.267930</td>\n",
       "      <td>0.330159</td>\n",
       "      <td>0.294872</td>\n",
       "      <td>0.266075</td>\n",
       "      <td>0.280918</td>\n",
       "      <td>0.292508</td>\n",
       "      <td>0.277941</td>\n",
       "    </tr>\n",
       "    <tr>\n",
       "      <th>Neutral</th>\n",
       "      <td>0.218419</td>\n",
       "      <td>0.238882</td>\n",
       "      <td>0.237288</td>\n",
       "      <td>0.259811</td>\n",
       "      <td>0.276190</td>\n",
       "      <td>0.234266</td>\n",
       "      <td>0.261641</td>\n",
       "      <td>0.242271</td>\n",
       "      <td>0.236429</td>\n",
       "      <td>0.233088</td>\n",
       "    </tr>\n",
       "    <tr>\n",
       "      <th>Low</th>\n",
       "      <td>0.102689</td>\n",
       "      <td>0.095299</td>\n",
       "      <td>0.148631</td>\n",
       "      <td>0.125846</td>\n",
       "      <td>0.085714</td>\n",
       "      <td>0.115385</td>\n",
       "      <td>0.103104</td>\n",
       "      <td>0.107488</td>\n",
       "      <td>0.113504</td>\n",
       "      <td>0.108088</td>\n",
       "    </tr>\n",
       "    <tr>\n",
       "      <th>Very Low</th>\n",
       "      <td>0.103504</td>\n",
       "      <td>0.095299</td>\n",
       "      <td>0.113429</td>\n",
       "      <td>0.096076</td>\n",
       "      <td>0.079365</td>\n",
       "      <td>0.087413</td>\n",
       "      <td>0.089800</td>\n",
       "      <td>0.099034</td>\n",
       "      <td>0.091072</td>\n",
       "      <td>0.109926</td>\n",
       "    </tr>\n",
       "  </tbody>\n",
       "</table>\n",
       "</div>"
      ],
      "text/plain": [
       "dept                             IT     RandD  accounting        hr  \\\n",
       "satisfaction_level_binned                                             \n",
       "Very High                  0.271394  0.278272    0.246415  0.250338   \n",
       "High                       0.303993  0.292249    0.254237  0.267930   \n",
       "Neutral                    0.218419  0.238882    0.237288  0.259811   \n",
       "Low                        0.102689  0.095299    0.148631  0.125846   \n",
       "Very Low                   0.103504  0.095299    0.113429  0.096076   \n",
       "\n",
       "dept                       management  marketing  product_mng     sales  \\\n",
       "satisfaction_level_binned                                                 \n",
       "Very High                    0.228571   0.268065     0.279379  0.270290   \n",
       "High                         0.330159   0.294872     0.266075  0.280918   \n",
       "Neutral                      0.276190   0.234266     0.261641  0.242271   \n",
       "Low                          0.085714   0.115385     0.103104  0.107488   \n",
       "Very Low                     0.079365   0.087413     0.089800  0.099034   \n",
       "\n",
       "dept                        support  technical  \n",
       "satisfaction_level_binned                       \n",
       "Very High                  0.266487   0.270956  \n",
       "High                       0.292508   0.277941  \n",
       "Neutral                    0.236429   0.233088  \n",
       "Low                        0.113504   0.108088  \n",
       "Very Low                   0.091072   0.109926  "
      ]
     },
     "execution_count": 64,
     "metadata": {},
     "output_type": "execute_result"
    }
   ],
   "source": [
    "# contingency table for heatmap:\n",
    "\n",
    "contingency_table14 = pd.crosstab(df['satisfaction_level_binned'],df['dept'],normalize='columns').reindex([\n",
    "    'Very High', 'High', 'Neutral', 'Low', 'Very Low' ])\n",
    "contingency_table14"
   ]
  },
  {
   "cell_type": "code",
   "execution_count": 65,
   "metadata": {},
   "outputs": [
    {
     "data": {
      "text/plain": [
       "(array([0.5, 1.5, 2.5, 3.5, 4.5]),\n",
       " [Text(0, 0.5, 'Very High'),\n",
       "  Text(0, 1.5, 'High'),\n",
       "  Text(0, 2.5, 'Neutral'),\n",
       "  Text(0, 3.5, 'Low'),\n",
       "  Text(0, 4.5, 'Very Low')])"
      ]
     },
     "execution_count": 65,
     "metadata": {},
     "output_type": "execute_result"
    },
    {
     "data": {
      "image/png": "[encoded data removed]",
      "text/plain": [
       "<Figure size 640x480 with 2 Axes>"
      ]
     },
     "metadata": {},
     "output_type": "display_data"
    }
   ],
   "source": [
    "fig,ax = plt.subplots()\n",
    "sns.heatmap(contingency_table14, annot=True)\n",
    "ax.set_title('Percentage of people grouped by dept with their reported satisfaction level')\n",
    "plt.xlabel('Department')\n",
    "plt.ylabel('Satisfaction Level')\n",
    "plt.yticks(rotation=0)"
   ]
  },
  {
   "cell_type": "markdown",
   "metadata": {},
   "source": [
    "Though the Chi-Square test returns a result that shows a relationship, we can't tell which department are most satisfied. General pattern on the heatmap shows no difference between each department, except perhaps Accounting who reported more lower-satisfaction scores compared to other departments.\n",
    "\n",
    "Based on the heatmap I'm going to rule out department's effect on satisfaction level. This heatmap also shows that there are around 20%-ish employees reporting lower satisfaction level per departments."
   ]
  },
  {
   "cell_type": "markdown",
   "metadata": {},
   "source": [
    "#### Salary on Satisfaction Level\n",
    "\n",
    "To see if Salary have a relationship with satisfaction level."
   ]
  },
  {
   "cell_type": "markdown",
   "metadata": {},
   "source": [
    " ##### H0 : There is no relationship between Satisfaction Level and Salary\n",
    "\n",
    "H1 : There is a relationship between Satisfaction Level and Salary"
   ]
  },
  {
   "cell_type": "code",
   "execution_count": 66,
   "metadata": {},
   "outputs": [
    {
     "data": {
      "text/html": [
       "<div>\n",
       "<style scoped>\n",
       "    .dataframe tbody tr th:only-of-type {\n",
       "        vertical-align: middle;\n",
       "    }\n",
       "\n",
       "    .dataframe tbody tr th {\n",
       "        vertical-align: top;\n",
       "    }\n",
       "\n",
       "    .dataframe thead th {\n",
       "        text-align: right;\n",
       "    }\n",
       "</style>\n",
       "<table border=\"1\" class=\"dataframe\">\n",
       "  <thead>\n",
       "    <tr style=\"text-align: right;\">\n",
       "      <th>salary</th>\n",
       "      <th>low</th>\n",
       "      <th>medium</th>\n",
       "      <th>high</th>\n",
       "    </tr>\n",
       "    <tr>\n",
       "      <th>satisfaction_level_binned</th>\n",
       "      <th></th>\n",
       "      <th></th>\n",
       "      <th></th>\n",
       "    </tr>\n",
       "  </thead>\n",
       "  <tbody>\n",
       "    <tr>\n",
       "      <th>Very High</th>\n",
       "      <td>1925</td>\n",
       "      <td>1757</td>\n",
       "      <td>320</td>\n",
       "    </tr>\n",
       "    <tr>\n",
       "      <th>High</th>\n",
       "      <td>1970</td>\n",
       "      <td>1888</td>\n",
       "      <td>410</td>\n",
       "    </tr>\n",
       "    <tr>\n",
       "      <th>Neutral</th>\n",
       "      <td>1727</td>\n",
       "      <td>1563</td>\n",
       "      <td>315</td>\n",
       "    </tr>\n",
       "    <tr>\n",
       "      <th>Low</th>\n",
       "      <td>886</td>\n",
       "      <td>648</td>\n",
       "      <td>112</td>\n",
       "    </tr>\n",
       "    <tr>\n",
       "      <th>Very Low</th>\n",
       "      <td>808</td>\n",
       "      <td>590</td>\n",
       "      <td>80</td>\n",
       "    </tr>\n",
       "  </tbody>\n",
       "</table>\n",
       "</div>"
      ],
      "text/plain": [
       "salary                      low  medium  high\n",
       "satisfaction_level_binned                    \n",
       "Very High                  1925    1757   320\n",
       "High                       1970    1888   410\n",
       "Neutral                    1727    1563   315\n",
       "Low                         886     648   112\n",
       "Very Low                    808     590    80"
      ]
     },
     "execution_count": 66,
     "metadata": {},
     "output_type": "execute_result"
    }
   ],
   "source": [
    "# contingency table:\n",
    "\n",
    "contingency_table15 = pd.crosstab(df['satisfaction_level_binned'],df['salary']).reindex([\n",
    "    'Very High', 'High', 'Neutral', 'Low', 'Very Low' ])[[\n",
    "    'low', 'medium', 'high']]\n",
    "contingency_table15"
   ]
  },
  {
   "cell_type": "code",
   "execution_count": 67,
   "metadata": {},
   "outputs": [
    {
     "name": "stdout",
     "output_type": "stream",
     "text": [
      "P-value: 2.747852006034944e-11\n"
     ]
    }
   ],
   "source": [
    "# chi squared test:\n",
    "\n",
    "res = stats.chi2_contingency(contingency_table15)\n",
    "print(\"P-value:\",res.pvalue)"
   ]
  },
  {
   "cell_type": "markdown",
   "metadata": {},
   "source": [
    "##### P-value returns 2.75*10^-11 , which is less than the critical value of 0.05 within 95% confidence level. Therefore, H1 cannot be rejected, there is a relationship between Sales and Satisfaction Level.\n",
    "\n",
    "We're going to see how it is with a heatmap."
   ]
  },
  {
   "cell_type": "code",
   "execution_count": 68,
   "metadata": {},
   "outputs": [
    {
     "data": {
      "text/html": [
       "<div>\n",
       "<style scoped>\n",
       "    .dataframe tbody tr th:only-of-type {\n",
       "        vertical-align: middle;\n",
       "    }\n",
       "\n",
       "    .dataframe tbody tr th {\n",
       "        vertical-align: top;\n",
       "    }\n",
       "\n",
       "    .dataframe thead th {\n",
       "        text-align: right;\n",
       "    }\n",
       "</style>\n",
       "<table border=\"1\" class=\"dataframe\">\n",
       "  <thead>\n",
       "    <tr style=\"text-align: right;\">\n",
       "      <th>salary</th>\n",
       "      <th>low</th>\n",
       "      <th>medium</th>\n",
       "      <th>high</th>\n",
       "    </tr>\n",
       "    <tr>\n",
       "      <th>satisfaction_level_binned</th>\n",
       "      <th></th>\n",
       "      <th></th>\n",
       "      <th></th>\n",
       "    </tr>\n",
       "  </thead>\n",
       "  <tbody>\n",
       "    <tr>\n",
       "      <th>Very High</th>\n",
       "      <td>0.263122</td>\n",
       "      <td>0.272572</td>\n",
       "      <td>0.258690</td>\n",
       "    </tr>\n",
       "    <tr>\n",
       "      <th>High</th>\n",
       "      <td>0.269273</td>\n",
       "      <td>0.292895</td>\n",
       "      <td>0.331447</td>\n",
       "    </tr>\n",
       "    <tr>\n",
       "      <th>Neutral</th>\n",
       "      <td>0.236058</td>\n",
       "      <td>0.242476</td>\n",
       "      <td>0.254648</td>\n",
       "    </tr>\n",
       "    <tr>\n",
       "      <th>Low</th>\n",
       "      <td>0.121104</td>\n",
       "      <td>0.100527</td>\n",
       "      <td>0.090542</td>\n",
       "    </tr>\n",
       "    <tr>\n",
       "      <th>Very Low</th>\n",
       "      <td>0.110443</td>\n",
       "      <td>0.091530</td>\n",
       "      <td>0.064673</td>\n",
       "    </tr>\n",
       "  </tbody>\n",
       "</table>\n",
       "</div>"
      ],
      "text/plain": [
       "salary                          low    medium      high\n",
       "satisfaction_level_binned                              \n",
       "Very High                  0.263122  0.272572  0.258690\n",
       "High                       0.269273  0.292895  0.331447\n",
       "Neutral                    0.236058  0.242476  0.254648\n",
       "Low                        0.121104  0.100527  0.090542\n",
       "Very Low                   0.110443  0.091530  0.064673"
      ]
     },
     "execution_count": 68,
     "metadata": {},
     "output_type": "execute_result"
    }
   ],
   "source": [
    "# contingency table for heatmap:\n",
    "\n",
    "contingency_table16 = pd.crosstab(df['satisfaction_level_binned'],df['salary'],normalize='columns').reindex([\n",
    "    'Very High', 'High', 'Neutral', 'Low', 'Very Low' ])[[\n",
    "    'low', 'medium', 'high']]\n",
    "contingency_table16"
   ]
  },
  {
   "cell_type": "code",
   "execution_count": 69,
   "metadata": {},
   "outputs": [
    {
     "data": {
      "text/plain": [
       "(array([0.5, 1.5, 2.5, 3.5, 4.5]),\n",
       " [Text(0, 0.5, 'Very High'),\n",
       "  Text(0, 1.5, 'High'),\n",
       "  Text(0, 2.5, 'Neutral'),\n",
       "  Text(0, 3.5, 'Low'),\n",
       "  Text(0, 4.5, 'Very Low')])"
      ]
     },
     "execution_count": 69,
     "metadata": {},
     "output_type": "execute_result"
    },
    {
     "data": {
      "image/png": "[encoded data removed]",
      "text/plain": [
       "<Figure size 640x480 with 2 Axes>"
      ]
     },
     "metadata": {},
     "output_type": "display_data"
    }
   ],
   "source": [
    "fig,ax = plt.subplots()\n",
    "sns.heatmap(contingency_table16, annot=True)\n",
    "ax.set_title('Percentage of employees grouped by salary with their reported satisfaction level')\n",
    "plt.xlabel('Salary')\n",
    "plt.ylabel('Satisfaction Level')\n",
    "plt.yticks(rotation=0)"
   ]
  },
  {
   "cell_type": "markdown",
   "metadata": {},
   "source": [
    "It's quite visible that employees with lower salary reports higher frequency of lower scores of Satisfaction Level compared to employees with mdeium or high salary. Employee with high salary reported highest proportion in High satisfaction level, with 33% reporting a High satisfaction level.\n",
    "\n",
    "So, to answer the question, in Celerium, salary is a positive factor of satisfaction. Employees are going to be more satisfied with higher salary, hence Celerium can still motivate its employees with promises of salary raise."
   ]
  },
  {
   "cell_type": "code",
   "execution_count": null,
   "metadata": {},
   "outputs": [],
   "source": []
  },
  {
   "cell_type": "markdown",
   "metadata": {},
   "source": []
  },
  {
   "cell_type": "markdown",
   "metadata": {},
   "source": [
    "## Answering the questions:\n",
    "\n",
    "1.\tWhat are the top three factors that affect employee satisfaction in Celerium? How do those factors work/affect employee satisfaction?\n",
    "\n",
    "    This can actually answered if we're running a Multiple Linear Regression, but since this assignment is not for that, let's point out which factors shows the most drastic pattern in terms of change of Employee Satisfaction Level: Which are: Number of Projects, Average Monthly Working Hours, and Promotion.\n",
    "\n",
    "    Too much projects makes employee not satisfied. The more projects there are the less the satisfaction level. There's too much for the brain to juggle, and it gets people frustrated. \n",
    "\n",
    "    Too much overtime also makes employee not satisfied. After around 267.2 average working hours per month (4~ hours of overtime per working day, or 3 hours overtime every working day + 3 hours working in weekends), people just get very much less satisfied with their work. Overtime takes time away from family and friends, and may make employee feel that they don't have control over their lives.\n",
    "\n",
    "    Promoted employees report higher satisfaction levels than un-promoted, theory says it's because of appreciation and reward of work (Gupta, 2011). People feel appreciated, and then are willing to strive more for the company.\n",
    "\n",
    "2.\tWho are the employees that are least satisfied in Celerium?\n",
    "\n",
    "    Accounting department shows the most lower-scored Satisfaction Level than any other departments, followed by Technical, IT, Sales, then HR.\n",
    "\n",
    "\n",
    "3.\tHow does salary play a role in employee satisfaction in Celerium?\n",
    "\n",
    "    In Celerium, the higher the salary, the higher the reported satisfaction level, so the general notion that higher salaries causes higher satisfaction still applies for Celerium."
   ]
  },
  {
   "cell_type": "markdown",
   "metadata": {},
   "source": [
    "## Policy advice:\n",
    "\n",
    "- For Number of Projects: I can advise a simple policy where an employees are not allowed to handle more than 5 projects at one time. If it does happen, their supervisor can get fines for not managing to handle projects accordingly. They should then have a consulting session with their supervisor and HR to talk about why the projects were not handled accordingly to the point of overworking employees, and how to best solve it.\n",
    "\n",
    "- For AVG Monthly Working Hours: We can advise a policy that just bans too much overtime work. So, we can ban people from working more than 267.2 hours each month, which is around 4 hours of overwork each working day. If people work more than that hour in a month, they'll get either fines or get a consulting session with their superior and/or HR to talk about their time management and workload. The fine should be big. This can be measured by the clock-in clock-out time difference.\n",
    "\n",
    "- For Promotion: I can advise my clients to promote more of their employee, or, in other words, do internal hiring for empty higher-up positions as it has shown they get more satisfied with promotion."
   ]
  },
  {
   "cell_type": "markdown",
   "metadata": {},
   "source": [
    "## Other messages to tell them"
   ]
  },
  {
   "cell_type": "markdown",
   "metadata": {},
   "source": [
    "There are some hints I got from looking at the data that may hint why so many answered a 1 out of 10 satisfaction score:\n",
    "- Low salary for around half of the company\n",
    "- Low promotion chance, employees may feel there's nothing to strive for\n",
    "- Long work hours\n",
    "\n",
    "There are also some good things that Celerium has done for their employees:\n",
    "- Good retention, most are working in Celerium for three years or more. \n",
    "    \n",
    "    Going off the tracks here: it begs a question, what happened three years ago that there's a spike in hiring? We may never know for we don't have the data for that.\n",
    "- Low count of work accidents throughout employee's entire employment in Celerium.\n",
    "- There are more highly-scored employees than lower-scored ones on evaluation. This means Celerium are able to train and direct employees to what they're supposed to do. Though, the mode being 55 out of 100 means there's still room for improvement.\n"
   ]
  },
  {
   "cell_type": "markdown",
   "metadata": {},
   "source": [
    "# References"
   ]
  },
  {
   "cell_type": "markdown",
   "metadata": {},
   "source": [
    "References:\n",
    "\n",
    "    Ali, A., Hussain Khan, and A.S Akram Ch. 2018. \"Level of Job Satisfaction among Employees of Banking Industries at Lahore, 2016.\" European Online Journal of Natural and Social Sciences: Proceedings 7, 3s, 92.\n",
    "    \n",
    "    Bhardwaj, Atishree, Swati Mishra, and Trilok Kumar Jain. 2020. \"An analysis to understanding the job satisfaction of employees in banking industry.\" Materials Today Proceedings 37 783-795.\n",
    "\n",
    "    Fabian, Mark, and Robert Breuning. 2019. \"Long Work Hours and Job Satisfaction: Do Overworkers Get Trapped in Bad Jobs?\" Social Science Quarterly Vol. 100 Issue. 5 1932-1956.\n",
    "\n",
    "    Gupta, C. B. 2011. Human Resource Management. New Delhi: Sultan Chand & Sons.\n",
    "\n",
    "    Ko, Young Jin, and Jin Nam Choi. 2018. \"Overtime work as the antecedent of employee satisfaction, firm productivity, and innovation.\" Journal of Organizational Behavior Vol. 40 Issue 3 282-295.\n",
    "\n",
    "    Lorber, Mateja, and Brigita Skela Savič. 2012. \"Job satisfaction of nurses and identifying factors of job satisfaction in Slovenian Hospitals.\" Croatia Medical Journal, 53 263-270.\n",
    "\n",
    "    Safi, M. H, and S. Arshi. 2016. \"The Relationship between Perceived Organizational Justice and Organizational Commitment with Job Satisfaction in Employees of Northern Tehran Healthcare Center.\" \n",
    "    SALAMAT IJTIMAI - Community Health,2,3 172-181.\n",
    "\n",
    "    Vorina, Anton, Miro Simonič, and Maria Vlasova. 2017. \"An Analysis of the Relationship Between Job Satisfaction and Employee Engagement.\" Economic Times (55) (2) 243-262.\n",
    "    \n",
    "    Wong, Edward Sek Khin, and Dr. Teoh Ngee Heng. 2009. \"Case Study of Factors Influencing Jobs Satisfaction in Two Malaysian Universities .\" International Business Research Vol.2 No. 2 86-98.\n",
    "\n"
   ]
  }
 ],
 "metadata": {
  "kernelspec": {
   "display_name": "datascience1",
   "language": "python",
   "name": "python3"
  },
  "language_info": {
   "codemirror_mode": {
    "name": "ipython",
    "version": 3
   },
   "file_extension": ".py",
   "mimetype": "text/x-python",
   "name": "python",
   "nbconvert_exporter": "python",
   "pygments_lexer": "ipython3",
   "version": "3.9.18"
  }
 },
 "nbformat": 4,
 "nbformat_minor": 2
}
